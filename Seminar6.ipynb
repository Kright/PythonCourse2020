{
 "cells": [
  {
   "cell_type": "code",
   "execution_count": 1,
   "metadata": {
    "slideshow": {
     "slide_type": "skip"
    }
   },
   "outputs": [],
   "source": [
    "from IPython.core.interactiveshell import InteractiveShell\n",
    "InteractiveShell.ast_node_interactivity = \"all\""
   ]
  },
  {
   "cell_type": "markdown",
   "metadata": {
    "slideshow": {
     "slide_type": "slide"
    }
   },
   "source": [
    "\n",
    "# Python 3\n",
    "## ООП, первая часть\n",
    "\n",
    "https://docs.python.org/3/tutorial/classes.html\n",
    "\n",
    "MIPT 2020\n",
    "\n",
    "Igor Slobodskov"
   ]
  },
  {
   "cell_type": "markdown",
   "metadata": {
    "slideshow": {
     "slide_type": "slide"
    }
   },
   "source": [
    "## Syntax"
   ]
  },
  {
   "cell_type": "code",
   "execution_count": 9,
   "metadata": {
    "slideshow": {
     "slide_type": "-"
    }
   },
   "outputs": [
    {
     "data": {
      "text/plain": [
       "__main__.Vector2d"
      ]
     },
     "execution_count": 9,
     "metadata": {},
     "output_type": "execute_result"
    },
    {
     "data": {
      "text/plain": [
       "<__main__.Vector2d at 0x7f0b846ca278>"
      ]
     },
     "execution_count": 9,
     "metadata": {},
     "output_type": "execute_result"
    },
    {
     "data": {
      "text/plain": [
       "1"
      ]
     },
     "execution_count": 9,
     "metadata": {},
     "output_type": "execute_result"
    }
   ],
   "source": [
    "class Vector2d:\n",
    "    def __init__(self, x, y):\n",
    "        self.x = x\n",
    "        self.y = y\n",
    "\n",
    "Vector2d\n",
    "p = Vector2d(1, 2)\n",
    "\n",
    "p\n",
    "p.x "
   ]
  },
  {
   "cell_type": "code",
   "execution_count": 6,
   "metadata": {
    "slideshow": {
     "slide_type": "subslide"
    }
   },
   "outputs": [
    {
     "data": {
      "text/plain": [
       "2"
      ]
     },
     "execution_count": 6,
     "metadata": {},
     "output_type": "execute_result"
    }
   ],
   "source": [
    "class Vector2d:\n",
    "    def __init__(self, x: float=0, y: float=0):\n",
    "        self.x = x\n",
    "        self.y = y\n",
    "        \n",
    "    def dot(self, p: 'Vector2d') -> float:\n",
    "        return self.x * p.x + self.y * p.y\n",
    "    \n",
    "Vector2d(x=1, y=2).dot(Vector2d(y=1))"
   ]
  },
  {
   "cell_type": "markdown",
   "metadata": {
    "slideshow": {
     "slide_type": "slide"
    }
   },
   "source": [
    "## str, format, repr\n",
    "\n",
    "https://stackoverflow.com/questions/1436703/difference-between-str-and-repr"
   ]
  },
  {
   "cell_type": "code",
   "execution_count": 23,
   "metadata": {
    "slideshow": {
     "slide_type": "-"
    }
   },
   "outputs": [
    {
     "data": {
      "text/plain": [
       "Vector2d(1, 2)"
      ]
     },
     "execution_count": 23,
     "metadata": {},
     "output_type": "execute_result"
    }
   ],
   "source": [
    "class Vector2d:\n",
    "    def __init__(self, x, y):\n",
    "        self.x = x\n",
    "        self.y = y\n",
    "        \n",
    "    def __repr__(self):\n",
    "        return f\"Vector2d({self.x}, {self.y})\"\n",
    "    \n",
    "Vector2d(x=1, y=2)"
   ]
  },
  {
   "cell_type": "code",
   "execution_count": 26,
   "metadata": {
    "slideshow": {
     "slide_type": "subslide"
    }
   },
   "outputs": [
    {
     "data": {
      "text/plain": [
       "'Vector2d(1, 2)'"
      ]
     },
     "execution_count": 26,
     "metadata": {},
     "output_type": "execute_result"
    },
    {
     "data": {
      "text/plain": [
       "'Vector2d(x=1, y=2)'"
      ]
     },
     "execution_count": 26,
     "metadata": {},
     "output_type": "execute_result"
    }
   ],
   "source": [
    "class Vector2d:\n",
    "    def __init__(self, x, y):\n",
    "        self.x = x\n",
    "        self.y = y\n",
    "        \n",
    "    def __repr__(self):\n",
    "        return f\"Vector2d({self.x}, {self.y})\"\n",
    "    \n",
    "    def __format__(self, format_string):\n",
    "        if format_string == \"\":\n",
    "            return str(self)\n",
    "        if format_string == \"full\":\n",
    "            return f\"Vector2d(x={self.x}, y={self.y})\"\n",
    "        \n",
    "\n",
    "f\"{Vector2d(x=1, y=2)}\"\n",
    "f\"{Vector2d(x=1, y=2):full}\"\n",
    "# f\"{Vector2d(x=1, y=2):error}\""
   ]
  },
  {
   "cell_type": "code",
   "execution_count": 29,
   "metadata": {
    "slideshow": {
     "slide_type": "subslide"
    }
   },
   "outputs": [
    {
     "name": "stdout",
     "output_type": "stream",
     "text": [
      "repr called!\n"
     ]
    },
    {
     "data": {
      "text/plain": [
       "'Dummy'"
      ]
     },
     "execution_count": 29,
     "metadata": {},
     "output_type": "execute_result"
    },
    {
     "name": "stdout",
     "output_type": "stream",
     "text": [
      "repr called!\n"
     ]
    },
    {
     "data": {
      "text/plain": [
       "'Dummy'"
      ]
     },
     "execution_count": 29,
     "metadata": {},
     "output_type": "execute_result"
    },
    {
     "name": "stdout",
     "output_type": "stream",
     "text": [
      "repr called!\n"
     ]
    },
    {
     "data": {
      "text/plain": [
       "'Dummy'"
      ]
     },
     "execution_count": 29,
     "metadata": {},
     "output_type": "execute_result"
    },
    {
     "name": "stdout",
     "output_type": "stream",
     "text": [
      "repr called!\n"
     ]
    },
    {
     "data": {
      "text/plain": [
       "Dummy"
      ]
     },
     "execution_count": 29,
     "metadata": {},
     "output_type": "execute_result"
    }
   ],
   "source": [
    "class Dummy:\n",
    "    def __repr__(self):\n",
    "        print(\"repr called!\")\n",
    "        return \"Dummy\"\n",
    "    \n",
    "str(Dummy())\n",
    "format(Dummy())\n",
    "f\"{Dummy()}\"\n",
    "Dummy()"
   ]
  },
  {
   "cell_type": "code",
   "execution_count": 43,
   "metadata": {
    "slideshow": {
     "slide_type": "subslide"
    }
   },
   "outputs": [
    {
     "name": "stdout",
     "output_type": "stream",
     "text": [
      "str called!\n"
     ]
    },
    {
     "data": {
      "text/plain": [
       "'Dummy'"
      ]
     },
     "execution_count": 43,
     "metadata": {},
     "output_type": "execute_result"
    },
    {
     "name": "stdout",
     "output_type": "stream",
     "text": [
      "format called with ''\n"
     ]
    },
    {
     "data": {
      "text/plain": [
       "'Dummy'"
      ]
     },
     "execution_count": 43,
     "metadata": {},
     "output_type": "execute_result"
    },
    {
     "name": "stdout",
     "output_type": "stream",
     "text": [
      "format called with ''\n"
     ]
    },
    {
     "data": {
      "text/plain": [
       "'Dummy'"
      ]
     },
     "execution_count": 43,
     "metadata": {},
     "output_type": "execute_result"
    },
    {
     "name": "stdout",
     "output_type": "stream",
     "text": [
      "format called with 'fmt'\n"
     ]
    },
    {
     "data": {
      "text/plain": [
       "'Dummy'"
      ]
     },
     "execution_count": 43,
     "metadata": {},
     "output_type": "execute_result"
    },
    {
     "name": "stdout",
     "output_type": "stream",
     "text": [
      "repr called!\n"
     ]
    },
    {
     "data": {
      "text/plain": [
       "Dummy"
      ]
     },
     "execution_count": 43,
     "metadata": {},
     "output_type": "execute_result"
    }
   ],
   "source": [
    "class Dummy:\n",
    "    def __str__(self):\n",
    "        print(\"str called!\")\n",
    "        return \"Dummy\"\n",
    "    \n",
    "    def __repr__(self):\n",
    "        print(\"repr called!\")\n",
    "        return \"Dummy\"   \n",
    "    \n",
    "    def __format__(self, format_string):\n",
    "        print(f\"format called with {repr(format_string)}\")\n",
    "        return \"Dummy\"  \n",
    "    \n",
    "str(Dummy())\n",
    "format(Dummy())\n",
    "f\"{Dummy()}\"\n",
    "f\"{Dummy():fmt}\"\n",
    "Dummy()"
   ]
  },
  {
   "cell_type": "code",
   "execution_count": 79,
   "metadata": {
    "slideshow": {
     "slide_type": "slide"
    }
   },
   "outputs": [
    {
     "data": {
      "text/plain": [
       "3"
      ]
     },
     "execution_count": 79,
     "metadata": {},
     "output_type": "execute_result"
    }
   ],
   "source": [
    "class Dummy:\n",
    "    ...\n",
    "        \n",
    "d = Dummy()\n",
    "d.x = 1\n",
    "d.y = 2\n",
    "\n",
    "d.x += d.y\n",
    "d.x"
   ]
  },
  {
   "cell_type": "code",
   "execution_count": 42,
   "metadata": {
    "slideshow": {
     "slide_type": "subslide"
    }
   },
   "outputs": [
    {
     "data": {
      "text/plain": [
       "3"
      ]
     },
     "execution_count": 42,
     "metadata": {},
     "output_type": "execute_result"
    }
   ],
   "source": [
    "a = lambda : ...\n",
    "\n",
    "a.x = 2\n",
    "a.x += 1\n",
    "a.x"
   ]
  },
  {
   "cell_type": "markdown",
   "metadata": {
    "slideshow": {
     "slide_type": "slide"
    }
   },
   "source": [
    "## Decorators: static, property, lru_cache"
   ]
  },
  {
   "cell_type": "code",
   "execution_count": 46,
   "metadata": {
    "slideshow": {
     "slide_type": "subslide"
    }
   },
   "outputs": [
    {
     "data": {
      "text/plain": [
       "1"
      ]
     },
     "execution_count": 46,
     "metadata": {},
     "output_type": "execute_result"
    },
    {
     "data": {
      "text/plain": [
       "2"
      ]
     },
     "execution_count": 46,
     "metadata": {},
     "output_type": "execute_result"
    },
    {
     "data": {
      "text/plain": [
       "3"
      ]
     },
     "execution_count": 46,
     "metadata": {},
     "output_type": "execute_result"
    }
   ],
   "source": [
    "class A():\n",
    "    def __init__(self):\n",
    "        self.public_field = 1\n",
    "        self._less_public_field = 2\n",
    "        self.__still_not_private = 3\n",
    "        \n",
    "a = A()\n",
    "a.public_field\n",
    "a._less_public_field\n",
    "a._A__still_not_private"
   ]
  },
  {
   "cell_type": "code",
   "execution_count": 50,
   "metadata": {
    "slideshow": {
     "slide_type": "subslide"
    }
   },
   "outputs": [
    {
     "data": {
      "text/plain": [
       "1"
      ]
     },
     "execution_count": 50,
     "metadata": {},
     "output_type": "execute_result"
    },
    {
     "data": {
      "text/plain": [
       "2"
      ]
     },
     "execution_count": 50,
     "metadata": {},
     "output_type": "execute_result"
    }
   ],
   "source": [
    "class A():\n",
    "    def __init__(self):\n",
    "        self.__counter = 0\n",
    "        \n",
    "    @property\n",
    "    def counter(self):\n",
    "        self.__counter += 1\n",
    "        return self.__counter\n",
    "    \n",
    "a = A()\n",
    "a.counter\n",
    "a.counter"
   ]
  },
  {
   "cell_type": "code",
   "execution_count": 51,
   "metadata": {
    "slideshow": {
     "slide_type": "subslide"
    }
   },
   "outputs": [
    {
     "data": {
      "text/plain": [
       "13"
      ]
     },
     "execution_count": 51,
     "metadata": {},
     "output_type": "execute_result"
    },
    {
     "data": {
      "text/plain": [
       "14"
      ]
     },
     "execution_count": 51,
     "metadata": {},
     "output_type": "execute_result"
    }
   ],
   "source": [
    "class A():\n",
    "    def __init__(self):\n",
    "        self.__counter = 0\n",
    "        \n",
    "    @property\n",
    "    def counter(self):\n",
    "        self.__counter += 1\n",
    "        return self.__counter\n",
    "    \n",
    "    @counter.setter\n",
    "    def counter(self, value):\n",
    "        self.__counter = value\n",
    "    \n",
    "a = A()\n",
    "a.counter = 12\n",
    "a.counter\n",
    "a.counter"
   ]
  },
  {
   "cell_type": "code",
   "execution_count": 66,
   "metadata": {
    "slideshow": {
     "slide_type": "subslide"
    }
   },
   "outputs": [
    {
     "name": "stdout",
     "output_type": "stream",
     "text": [
      "A!\n",
      "A!\n",
      "A!\n",
      "A!\n",
      "A!\n",
      "A!\n"
     ]
    }
   ],
   "source": [
    "class A():\n",
    "    @staticmethod\n",
    "    def print_a():\n",
    "        print(\"A!\")\n",
    "        \n",
    "    def print_2a(self):\n",
    "        A.print_a()\n",
    "        self.print_a()\n",
    "        \n",
    "        \n",
    "A.print_a()\n",
    "a = A()\n",
    "a.print_a()\n",
    "a.print_2a()\n",
    "\n",
    "A.print_2a(a)"
   ]
  },
  {
   "cell_type": "code",
   "execution_count": 67,
   "metadata": {
    "slideshow": {
     "slide_type": "subslide"
    }
   },
   "outputs": [
    {
     "name": "stdout",
     "output_type": "stream",
     "text": [
      "get((FakeProperty(), A(), <class '__main__.A'>))\n"
     ]
    },
    {
     "data": {
      "text/plain": [
       "42"
      ]
     },
     "execution_count": 67,
     "metadata": {},
     "output_type": "execute_result"
    },
    {
     "name": "stdout",
     "output_type": "stream",
     "text": [
      "set((FakeProperty(), A(), 2))\n"
     ]
    }
   ],
   "source": [
    "class FakeProperty:\n",
    "    def __get__(*args):\n",
    "        print(f\"get({args})\")\n",
    "        return 42\n",
    "    \n",
    "    def __set__(*args):\n",
    "        print(f\"set({args})\")\n",
    "        \n",
    "    def __repr__(self):\n",
    "        return \"FakeProperty()\"\n",
    "        \n",
    "    \n",
    "class A:\n",
    "    x = FakeProperty()\n",
    "    \n",
    "    def __repr__(self):\n",
    "        return \"A()\"\n",
    "    \n",
    "A().x\n",
    "A().x = 2\n",
    "    "
   ]
  },
  {
   "cell_type": "code",
   "execution_count": 69,
   "metadata": {
    "slideshow": {
     "slide_type": "subslide"
    }
   },
   "outputs": [
    {
     "name": "stdout",
     "output_type": "stream",
     "text": [
      "compute 42\n"
     ]
    },
    {
     "data": {
      "text/plain": [
       "42"
      ]
     },
     "execution_count": 69,
     "metadata": {},
     "output_type": "execute_result"
    },
    {
     "data": {
      "text/plain": [
       "42"
      ]
     },
     "execution_count": 69,
     "metadata": {},
     "output_type": "execute_result"
    }
   ],
   "source": [
    "from functools import lru_cache\n",
    "\n",
    "class A():\n",
    "    @staticmethod\n",
    "    @lru_cache()\n",
    "    def compute42():\n",
    "        print(\"compute 42\")\n",
    "        return 42\n",
    "    \n",
    "A.compute42()\n",
    "A.compute42()"
   ]
  },
  {
   "cell_type": "markdown",
   "metadata": {
    "slideshow": {
     "slide_type": "slide"
    }
   },
   "source": [
    "## class variables"
   ]
  },
  {
   "cell_type": "code",
   "execution_count": 77,
   "metadata": {
    "slideshow": {
     "slide_type": "-"
    }
   },
   "outputs": [
    {
     "data": {
      "text/plain": [
       "<__main__.A at 0x7f0b84578828>"
      ]
     },
     "execution_count": 77,
     "metadata": {},
     "output_type": "execute_result"
    },
    {
     "data": {
      "text/plain": [
       "[<__main__.A at 0x7f0b84578828>, <__main__.A at 0x7f0b8457efd0>]"
      ]
     },
     "execution_count": 77,
     "metadata": {},
     "output_type": "execute_result"
    },
    {
     "data": {
      "text/plain": [
       "[]"
      ]
     },
     "execution_count": 77,
     "metadata": {},
     "output_type": "execute_result"
    }
   ],
   "source": [
    "class A:\n",
    "    objects = []\n",
    "    def __init__(self):\n",
    "        self.objects.append(self) # or A.objects.append(self)\n",
    "        self.objects = []\n",
    "        \n",
    "A()\n",
    "a = A()\n",
    "\n",
    "A.objects\n",
    "a.objects"
   ]
  },
  {
   "cell_type": "markdown",
   "metadata": {
    "slideshow": {
     "slide_type": "slide"
    }
   },
   "source": [
    "## наследование"
   ]
  },
  {
   "cell_type": "code",
   "execution_count": 81,
   "metadata": {
    "slideshow": {
     "slide_type": "-"
    }
   },
   "outputs": [
    {
     "name": "stdout",
     "output_type": "stream",
     "text": [
      "Vector2d({'x': 1, 'y': 2})\n"
     ]
    }
   ],
   "source": [
    "class HasRepr:    \n",
    "    def __repr__(self):\n",
    "        return f\"{self.__class__.__name__}({self.__dict__})\"\n",
    "    \n",
    "class Vector2d(HasRepr):\n",
    "    def __init__(self, x, y):\n",
    "        super().__init__()\n",
    "        self.x = x\n",
    "        self.y = y \n",
    "        \n",
    "print(Vector2d(1, 2))        "
   ]
  },
  {
   "cell_type": "code",
   "execution_count": 86,
   "metadata": {
    "slideshow": {
     "slide_type": "subslide"
    }
   },
   "outputs": [
    {
     "name": "stdout",
     "output_type": "stream",
     "text": [
      "AAB()\n",
      "AA()\n",
      "A()\n",
      "B()\n",
      "B created!\n",
      "A created!\n",
      "AA created!\n",
      "AAB created!\n"
     ]
    },
    {
     "data": {
      "text/plain": [
       "<__main__.AAB at 0x7f0b845a0828>"
      ]
     },
     "execution_count": 86,
     "metadata": {},
     "output_type": "execute_result"
    }
   ],
   "source": [
    "class A():\n",
    "    def __init__(self):\n",
    "        print(\"A()\")\n",
    "        super().__init__()\n",
    "        print(\"A created!\")\n",
    "\n",
    "class AA(A):\n",
    "    def __init__(self):\n",
    "        print(\"AA()\")\n",
    "        super().__init__()\n",
    "        print(\"AA created!\")\n",
    "        \n",
    "class B():\n",
    "    def __init__(self):\n",
    "        print(\"B()\")\n",
    "        super().__init__()\n",
    "        print(\"B created!\")\n",
    "        \n",
    "class AAB(AA, B):\n",
    "    def __init__(self):\n",
    "        print(\"AAB()\")\n",
    "        super().__init__()\n",
    "        print(\"AAB created!\")\n",
    "        \n",
    "AAB()"
   ]
  },
  {
   "cell_type": "code",
   "execution_count": 91,
   "metadata": {
    "slideshow": {
     "slide_type": "subslide"
    }
   },
   "outputs": [
    {
     "name": "stdout",
     "output_type": "stream",
     "text": [
      "C()\n",
      "AAB()\n",
      "AA()\n",
      "A()\n",
      "B()\n",
      "B created!\n",
      "A created!\n",
      "AA created!\n",
      "AAB created!\n",
      "C created!\n"
     ]
    },
    {
     "data": {
      "text/plain": [
       "<__main__.C at 0x7f0b845e3128>"
      ]
     },
     "execution_count": 91,
     "metadata": {},
     "output_type": "execute_result"
    }
   ],
   "source": [
    "class C(AAB, A, B):\n",
    "    def __init__(self):\n",
    "        print(\"C()\")\n",
    "        super().__init__()\n",
    "        print(\"C created!\")\n",
    "        \n",
    "C()"
   ]
  },
  {
   "cell_type": "code",
   "execution_count": 92,
   "metadata": {
    "slideshow": {
     "slide_type": "subslide"
    }
   },
   "outputs": [
    {
     "ename": "TypeError",
     "evalue": "Cannot create a consistent method resolution\norder (MRO) for bases A, B",
     "output_type": "error",
     "traceback": [
      "\u001b[0;31m---------------------------------------------------------------------------\u001b[0m",
      "\u001b[0;31mTypeError\u001b[0m                                 Traceback (most recent call last)",
      "\u001b[0;32m<ipython-input-92-8ba6ad6433b3>\u001b[0m in \u001b[0;36m<module>\u001b[0;34m()\u001b[0m\n\u001b[1;32m      2\u001b[0m \u001b[0;32mclass\u001b[0m \u001b[0mBA\u001b[0m\u001b[0;34m(\u001b[0m\u001b[0mB\u001b[0m\u001b[0;34m,\u001b[0m \u001b[0mA\u001b[0m\u001b[0;34m)\u001b[0m\u001b[0;34m:\u001b[0m \u001b[0;34m...\u001b[0m\u001b[0;34m\u001b[0m\u001b[0;34m\u001b[0m\u001b[0m\n\u001b[1;32m      3\u001b[0m \u001b[0;34m\u001b[0m\u001b[0m\n\u001b[0;32m----> 4\u001b[0;31m \u001b[0;32mclass\u001b[0m \u001b[0mImpossible\u001b[0m\u001b[0;34m(\u001b[0m\u001b[0mAB\u001b[0m\u001b[0;34m,\u001b[0m \u001b[0mBA\u001b[0m\u001b[0;34m)\u001b[0m\u001b[0;34m:\u001b[0m \u001b[0;34m...\u001b[0m\u001b[0;34m\u001b[0m\u001b[0;34m\u001b[0m\u001b[0m\n\u001b[0m",
      "\u001b[0;31mTypeError\u001b[0m: Cannot create a consistent method resolution\norder (MRO) for bases A, B"
     ]
    }
   ],
   "source": [
    "class AB(A, B): ...\n",
    "class BA(B, A): ...\n",
    "    \n",
    "class Impossible(AB, BA): ..."
   ]
  },
  {
   "cell_type": "code",
   "execution_count": 98,
   "metadata": {
    "slideshow": {
     "slide_type": "subslide"
    }
   },
   "outputs": [
    {
     "name": "stdout",
     "output_type": "stream",
     "text": [
      "Class1\n",
      "Class2\n",
      "Class21\n",
      "Class2\n",
      "Class1\n"
     ]
    }
   ],
   "source": [
    "def make_class(name):\n",
    "    class Dummy():\n",
    "        def say(self):\n",
    "            print(name)\n",
    "            if hasattr(super(), \"say\"):\n",
    "                super().say()\n",
    "            \n",
    "    Dummy.__name__ == name\n",
    "    classes.append(Dummy)\n",
    "    return Dummy \n",
    "    \n",
    "Class1 = make_class(\"Class1\")\n",
    "Class2 = make_class(\"Class2\")\n",
    "\n",
    "class Class12(Class1, Class2): ...\n",
    "    \n",
    "class Class21(Class2, Class1):\n",
    "    def say(self):\n",
    "        print(\"Class21\")\n",
    "        super().say()\n",
    "    \n",
    "Class12().say()\n",
    "\n",
    "Class21().say()"
   ]
  },
  {
   "cell_type": "code",
   "execution_count": 101,
   "metadata": {
    "slideshow": {
     "slide_type": "subslide"
    }
   },
   "outputs": [],
   "source": [
    "class HasA:\n",
    "    def a(self): ...\n",
    "        \n",
    "class HasB:\n",
    "    def b(self): ...\n",
    "        \n",
    "class HasAB(HasA, HasB): ...\n",
    "    \n",
    "ab = HasAB()\n",
    "ab.a()\n",
    "ab.b()"
   ]
  },
  {
   "cell_type": "markdown",
   "metadata": {
    "slideshow": {
     "slide_type": "slide"
    }
   },
   "source": [
    "## Call"
   ]
  },
  {
   "cell_type": "code",
   "execution_count": 102,
   "metadata": {
    "slideshow": {
     "slide_type": "-"
    }
   },
   "outputs": [
    {
     "name": "stdout",
     "output_type": "stream",
     "text": [
      "Hello world!\n"
     ]
    }
   ],
   "source": [
    "class FunctionLike:\n",
    "    def __call__(self, *args, **kwargs):\n",
    "        print(*args, **kwargs)\n",
    "        \n",
    "f = FunctionLike()\n",
    "f(\"Hello world!\")"
   ]
  },
  {
   "cell_type": "code",
   "execution_count": 106,
   "metadata": {
    "slideshow": {
     "slide_type": "subslide"
    }
   },
   "outputs": [
    {
     "data": {
      "text/plain": [
       "1"
      ]
     },
     "execution_count": 106,
     "metadata": {},
     "output_type": "execute_result"
    },
    {
     "data": {
      "text/plain": [
       "9000"
      ]
     },
     "execution_count": 106,
     "metadata": {},
     "output_type": "execute_result"
    },
    {
     "data": {
      "text/plain": [
       "9000"
      ]
     },
     "execution_count": 106,
     "metadata": {},
     "output_type": "execute_result"
    }
   ],
   "source": [
    "class MaxElem:\n",
    "    def __init__(self, start):\n",
    "        self.max = start\n",
    "        \n",
    "    def __call__(self, elem):\n",
    "        self.max = max(self.max, elem)\n",
    "        return self.max\n",
    "    \n",
    "a = MaxElem(0)\n",
    "a(1)\n",
    "a(9000)\n",
    "a(2)"
   ]
  },
  {
   "cell_type": "code",
   "execution_count": 116,
   "metadata": {
    "slideshow": {
     "slide_type": "subslide"
    }
   },
   "outputs": [
    {
     "name": "stdout",
     "output_type": "stream",
     "text": [
      "add(*(2, 3), **{}) = 5\n"
     ]
    },
    {
     "data": {
      "text/plain": [
       "5"
      ]
     },
     "execution_count": 116,
     "metadata": {},
     "output_type": "execute_result"
    }
   ],
   "source": [
    "class MyDecorator:\n",
    "    def __init__(self, function):\n",
    "        self.function = function\n",
    "        \n",
    "    def __call__(self, *args, **kwargs):\n",
    "        result = self.function(*args, **kwargs)\n",
    "        print(f\"{self.function.__name__}(*{args}, **{kwargs}) = {result}\")\n",
    "        return result \n",
    "    \n",
    "@MyDecorator\n",
    "def add(x, y):\n",
    "    return x + y\n",
    "\n",
    "add(2, 3)"
   ]
  },
  {
   "cell_type": "markdown",
   "metadata": {
    "slideshow": {
     "slide_type": "slide"
    }
   },
   "source": [
    "## Iterator, Iterable"
   ]
  },
  {
   "cell_type": "code",
   "execution_count": 109,
   "metadata": {
    "slideshow": {
     "slide_type": "-"
    }
   },
   "outputs": [
    {
     "name": "stdout",
     "output_type": "stream",
     "text": [
      "1\n",
      "2\n",
      "3\n"
     ]
    },
    {
     "data": {
      "text/plain": [
       "[1, 2, 3, 4]"
      ]
     },
     "execution_count": 109,
     "metadata": {},
     "output_type": "execute_result"
    }
   ],
   "source": [
    "class MyRange:\n",
    "    def __init__(self, current, end):\n",
    "        self.current = current\n",
    "        self.end = end\n",
    "        \n",
    "    def __iter__(self):\n",
    "        return self \n",
    "    \n",
    "    def __next__(self):\n",
    "        if self.current >= self.end:\n",
    "            raise StopIteration()\n",
    "        cur = self.current\n",
    "        self.current += 1\n",
    "        return cur\n",
    "    \n",
    "for i in MyRange(1, 4):\n",
    "    print(i)\n",
    "    \n",
    "list(MyRange(1, 5))"
   ]
  },
  {
   "cell_type": "code",
   "execution_count": 111,
   "metadata": {
    "slideshow": {
     "slide_type": "subslide"
    }
   },
   "outputs": [
    {
     "data": {
      "text/plain": [
       "[1, 2, 3]"
      ]
     },
     "execution_count": 111,
     "metadata": {},
     "output_type": "execute_result"
    },
    {
     "data": {
      "text/plain": [
       "[]"
      ]
     },
     "execution_count": 111,
     "metadata": {},
     "output_type": "execute_result"
    },
    {
     "data": {
      "text/plain": [
       "[1, 2, 3]"
      ]
     },
     "execution_count": 111,
     "metadata": {},
     "output_type": "execute_result"
    },
    {
     "data": {
      "text/plain": [
       "[1, 2, 3]"
      ]
     },
     "execution_count": 111,
     "metadata": {},
     "output_type": "execute_result"
    }
   ],
   "source": [
    "class MyIterable:\n",
    "    def __init__(self, current, end):\n",
    "        self.current = current\n",
    "        self.end = end\n",
    "        \n",
    "    def __iter__(self):\n",
    "        return MyRange(self.current, self.end)\n",
    "    \n",
    "r = MyRange(1, 4)\n",
    "\n",
    "list(r)\n",
    "list(r)\n",
    "\n",
    "a = MyIterable(1, 4)\n",
    "list(a)\n",
    "list(a)"
   ]
  },
  {
   "cell_type": "code",
   "execution_count": null,
   "metadata": {},
   "outputs": [],
   "source": []
  }
 ],
 "metadata": {
  "celltoolbar": "Slideshow",
  "kernelspec": {
   "display_name": "Python 3",
   "language": "python",
   "name": "python3"
  },
  "language_info": {
   "codemirror_mode": {
    "name": "ipython",
    "version": 3
   },
   "file_extension": ".py",
   "mimetype": "text/x-python",
   "name": "python",
   "nbconvert_exporter": "python",
   "pygments_lexer": "ipython3",
   "version": "3.6.3"
  }
 },
 "nbformat": 4,
 "nbformat_minor": 2
}
