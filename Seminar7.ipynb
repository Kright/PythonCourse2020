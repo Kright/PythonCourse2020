{
 "cells": [
  {
   "cell_type": "code",
   "execution_count": 1,
   "metadata": {
    "slideshow": {
     "slide_type": "skip"
    }
   },
   "outputs": [],
   "source": [
    "from IPython.core.interactiveshell import InteractiveShell\n",
    "InteractiveShell.ast_node_interactivity = \"all\""
   ]
  },
  {
   "cell_type": "markdown",
   "metadata": {
    "slideshow": {
     "slide_type": "slide"
    }
   },
   "source": [
    "\n",
    "# Python 3\n",
    "## ООП, вторая часть\n",
    "\n",
    "https://docs.python.org/3/tutorial/classes.html\n",
    "\n",
    "MIPT 2020\n",
    "\n",
    "Igor Slobodskov\n"
   ]
  },
  {
   "cell_type": "markdown",
   "metadata": {
    "slideshow": {
     "slide_type": "slide"
    }
   },
   "source": [
    "## Арифметические операции\n",
    "\n",
    "https://docs.python.org/3/reference/datamodel.html#emulating-numeric-types\n",
    "\n",
    "https://docs.python.org/3.8/library/operator.html"
   ]
  },
  {
   "cell_type": "code",
   "execution_count": 6,
   "metadata": {
    "slideshow": {
     "slide_type": "-"
    }
   },
   "outputs": [
    {
     "data": {
      "text/plain": [
       "MyInt(4)"
      ]
     },
     "execution_count": 6,
     "metadata": {},
     "output_type": "execute_result"
    }
   ],
   "source": [
    "class MyInt:\n",
    "    def __init__(self, value):\n",
    "        self.value = value\n",
    "        \n",
    "    def __add__(self, other: 'CustomInt'):\n",
    "        return MyInt(self.value + other.value)\n",
    "    \n",
    "    def __repr__(self):\n",
    "        return f\"MyInt({self.value})\"\n",
    "    \n",
    "MyInt(2) + MyInt(2)"
   ]
  },
  {
   "cell_type": "code",
   "execution_count": 13,
   "metadata": {
    "slideshow": {
     "slide_type": "subslide"
    }
   },
   "outputs": [
    {
     "data": {
      "text/plain": [
       "MyInt(5)"
      ]
     },
     "execution_count": 13,
     "metadata": {},
     "output_type": "execute_result"
    }
   ],
   "source": [
    "class MyInt:\n",
    "    def __init__(self, value):\n",
    "        self.value = value\n",
    "        \n",
    "    def __add__(self, other):\n",
    "        if isinstance(other, MyInt):\n",
    "            return MyInt(self.value + other.value)\n",
    "        assert isinstance(other, int)\n",
    "        return MyInt(self.value + other)\n",
    "    \n",
    "    def __repr__(self):\n",
    "        return f\"MyInt({self.value})\"\n",
    "    \n",
    "MyInt(2) + 3"
   ]
  },
  {
   "cell_type": "code",
   "execution_count": 34,
   "metadata": {
    "slideshow": {
     "slide_type": "subslide"
    }
   },
   "outputs": [
    {
     "name": "stdout",
     "output_type": "stream",
     "text": [
      "init MyInt(1)\n",
      "init MyInt(4)\n"
     ]
    },
    {
     "data": {
      "text/plain": [
       "MyInt(7)"
      ]
     },
     "execution_count": 34,
     "metadata": {},
     "output_type": "execute_result"
    }
   ],
   "source": [
    "class MyInt:\n",
    "    def __init__(self, value):\n",
    "        self.value = value\n",
    "        print(f\"init {self}\")\n",
    "        \n",
    "    def __iadd__(self, other):\n",
    "        if isinstance(other, MyInt):\n",
    "            self.value += other.value\n",
    "            return self\n",
    "        assert isinstance(other, int)\n",
    "        self.value += other\n",
    "        return self\n",
    "    \n",
    "    def __repr__(self):\n",
    "        return f\"MyInt({self.value})\"\n",
    "    \n",
    "a = MyInt(1)\n",
    "a += 2\n",
    "a += MyInt(4)\n",
    "a "
   ]
  },
  {
   "cell_type": "code",
   "execution_count": 35,
   "metadata": {
    "slideshow": {
     "slide_type": "subslide"
    }
   },
   "outputs": [
    {
     "name": "stdout",
     "output_type": "stream",
     "text": [
      "init MyInt(2)\n",
      "init MyInt(4)\n"
     ]
    },
    {
     "data": {
      "text/plain": [
       "7"
      ]
     },
     "execution_count": 35,
     "metadata": {},
     "output_type": "execute_result"
    }
   ],
   "source": [
    "class MyInt:\n",
    "    def __init__(self, value):\n",
    "        self.value = value\n",
    "        print(f\"init {self}\")\n",
    "        \n",
    "    def __iadd__(self, other):\n",
    "        if isinstance(other, MyInt):\n",
    "            self.value += other.value\n",
    "            return self\n",
    "        assert isinstance(other, int)\n",
    "        return self.value + other\n",
    "    \n",
    "    def __repr__(self):\n",
    "        return f\"MyInt({self.value})\"\n",
    "    \n",
    "a = MyInt(2)\n",
    "a += MyInt(4)\n",
    "a += 1\n",
    "a"
   ]
  },
  {
   "cell_type": "code",
   "execution_count": 37,
   "metadata": {
    "slideshow": {
     "slide_type": "subslide"
    }
   },
   "outputs": [
    {
     "data": {
      "text/plain": [
       "MyInt(5)"
      ]
     },
     "execution_count": 37,
     "metadata": {},
     "output_type": "execute_result"
    }
   ],
   "source": [
    "class MyInt:\n",
    "    def __init__(self, value):\n",
    "        self.value = value\n",
    "        \n",
    "    def __radd__(self, left):\n",
    "        if isinstance(left, MyInt):\n",
    "            return MyInt(self.value + left.value)\n",
    "        assert isinstance(left, int)\n",
    "        return MyInt(self.value + left)\n",
    "    \n",
    "    def __repr__(self):\n",
    "        return f\"MyInt({self.value})\"\n",
    "    \n",
    "3 + MyInt(2)"
   ]
  },
  {
   "cell_type": "code",
   "execution_count": 41,
   "metadata": {
    "slideshow": {
     "slide_type": "subslide"
    }
   },
   "outputs": [
    {
     "data": {
      "text/plain": [
       "MyInt(-2)"
      ]
     },
     "execution_count": 41,
     "metadata": {},
     "output_type": "execute_result"
    }
   ],
   "source": [
    "class MyInt:\n",
    "    def __init__(self, value):\n",
    "        self.value = value\n",
    "        \n",
    "    def __neg__(self):\n",
    "        return MyInt(-self.value)\n",
    "    \n",
    "    def __repr__(self):\n",
    "        return f\"MyInt({self.value})\"\n",
    "    \n",
    "-MyInt(2)"
   ]
  },
  {
   "cell_type": "markdown",
   "metadata": {
    "slideshow": {
     "slide_type": "slide"
    }
   },
   "source": [
    "## Приведение типов"
   ]
  },
  {
   "cell_type": "code",
   "execution_count": 43,
   "metadata": {
    "slideshow": {
     "slide_type": "-"
    }
   },
   "outputs": [
    {
     "data": {
      "text/plain": [
       "2"
      ]
     },
     "execution_count": 43,
     "metadata": {},
     "output_type": "execute_result"
    },
    {
     "data": {
      "text/plain": [
       "True"
      ]
     },
     "execution_count": 43,
     "metadata": {},
     "output_type": "execute_result"
    },
    {
     "data": {
      "text/plain": [
       "'MyInt(2)'"
      ]
     },
     "execution_count": 43,
     "metadata": {},
     "output_type": "execute_result"
    }
   ],
   "source": [
    "class MyInt:\n",
    "    def __init__(self, value):\n",
    "        self.value = value\n",
    "        \n",
    "    def __int__(self):\n",
    "        return self.value\n",
    "    \n",
    "    def __str__(self):\n",
    "        return repr(self)\n",
    "    \n",
    "    def __bool__(self):\n",
    "        return bool(self.value)\n",
    "    \n",
    "    def __repr__(self):\n",
    "        return f\"MyInt({self.value})\"\n",
    "    \n",
    "int(MyInt(2))\n",
    "bool(MyInt(2))\n",
    "str(MyInt(2))"
   ]
  },
  {
   "cell_type": "markdown",
   "metadata": {
    "slideshow": {
     "slide_type": "slide"
    }
   },
   "source": [
    "## Методы коллекций"
   ]
  },
  {
   "cell_type": "code",
   "execution_count": 57,
   "metadata": {
    "slideshow": {
     "slide_type": "-"
    }
   },
   "outputs": [
    {
     "data": {
      "text/plain": [
       "1"
      ]
     },
     "execution_count": 57,
     "metadata": {},
     "output_type": "execute_result"
    },
    {
     "name": "stdout",
     "output_type": "stream",
     "text": [
      "set [2] = 3\n"
     ]
    },
    {
     "data": {
      "text/plain": [
       "42"
      ]
     },
     "execution_count": 57,
     "metadata": {},
     "output_type": "execute_result"
    },
    {
     "name": "stdout",
     "output_type": "stream",
     "text": [
      "del 2\n",
      "0\n",
      "1\n",
      "2\n",
      "3\n",
      "4\n"
     ]
    }
   ],
   "source": [
    "class DummyList:\n",
    "    def __len__(self):\n",
    "        return 42\n",
    "    \n",
    "    def __getitem__(self, pos):\n",
    "        if 0 <= pos < 5:\n",
    "            return pos\n",
    "        raise IndexError(f\"wrong index: {pos}, size is {len(self)}\")\n",
    "    \n",
    "    def __setitem__(self, pos, value):\n",
    "        print(f\"set [{pos}] = {value}\")\n",
    "        \n",
    "    def __delitem__(self, pos):\n",
    "        print(f\"del {pos}\")\n",
    "    \n",
    "\n",
    "\n",
    "a = DummyList()\n",
    "a[1]\n",
    "a[2] = 3\n",
    "len(a)\n",
    "del a[2]\n",
    "\n",
    "for i in a:\n",
    "    print(i)"
   ]
  },
  {
   "cell_type": "markdown",
   "metadata": {
    "slideshow": {
     "slide_type": "slide"
    }
   },
   "source": [
    "## Context manager\n",
    "\n",
    "https://book.pythontips.com/en/latest/context_managers.html"
   ]
  },
  {
   "cell_type": "code",
   "execution_count": 1,
   "metadata": {
    "slideshow": {
     "slide_type": "-"
    }
   },
   "outputs": [
    {
     "name": "stdout",
     "output_type": "stream",
     "text": [
      "enter\n",
      "inner\n",
      "exit(None, None, None)\n"
     ]
    }
   ],
   "source": [
    "class MyContext:\n",
    "    def __enter__(self):\n",
    "        print(\"enter\")\n",
    "        return self\n",
    "    def __exit__(self, type, value, traceback):\n",
    "        print(f\"exit({type}, {value}, {traceback})\")\n",
    "        \n",
    "with MyContext():\n",
    "    print(\"inner\")"
   ]
  },
  {
   "cell_type": "code",
   "execution_count": 2,
   "metadata": {
    "slideshow": {
     "slide_type": "subslide"
    }
   },
   "outputs": [
    {
     "name": "stdout",
     "output_type": "stream",
     "text": [
      "enter\n",
      "<__main__.MyContext object at 0x7fdaa86b2978>\n",
      "inner\n",
      "exit(None, None, None)\n"
     ]
    }
   ],
   "source": [
    "class MyContext:\n",
    "    def __enter__(self):\n",
    "        print(\"enter\")\n",
    "        return self\n",
    "    def __exit__(self, type, value, traceback):\n",
    "        print(f\"exit({type}, {value}, {traceback})\")\n",
    "        \n",
    "with MyContext() as c:\n",
    "    print(c)\n",
    "    print(\"inner\")"
   ]
  },
  {
   "cell_type": "code",
   "execution_count": 67,
   "metadata": {
    "slideshow": {
     "slide_type": "subslide"
    }
   },
   "outputs": [
    {
     "name": "stdout",
     "output_type": "stream",
     "text": [
      "enter\n",
      "raise!\n",
      "exit(<class 'Exception'>, errorMsg, <traceback object at 0x7f6bae7da808>)\n"
     ]
    },
    {
     "ename": "Exception",
     "evalue": "errorMsg",
     "output_type": "error",
     "traceback": [
      "\u001b[0;31m---------------------------------------------------------------------------\u001b[0m",
      "\u001b[0;31mException\u001b[0m                                 Traceback (most recent call last)",
      "\u001b[0;32m<ipython-input-67-9c605b7316d1>\u001b[0m in \u001b[0;36m<module>\u001b[0;34m()\u001b[0m\n\u001b[1;32m      8\u001b[0m \u001b[0;32mwith\u001b[0m \u001b[0mMyContext\u001b[0m\u001b[0;34m(\u001b[0m\u001b[0;34m)\u001b[0m \u001b[0;32mas\u001b[0m \u001b[0mc\u001b[0m\u001b[0;34m:\u001b[0m\u001b[0;34m\u001b[0m\u001b[0;34m\u001b[0m\u001b[0m\n\u001b[1;32m      9\u001b[0m     \u001b[0mprint\u001b[0m\u001b[0;34m(\u001b[0m\u001b[0;34m\"raise!\"\u001b[0m\u001b[0;34m)\u001b[0m\u001b[0;34m\u001b[0m\u001b[0;34m\u001b[0m\u001b[0m\n\u001b[0;32m---> 10\u001b[0;31m     \u001b[0;32mraise\u001b[0m \u001b[0mException\u001b[0m\u001b[0;34m(\u001b[0m\u001b[0;34m\"errorMsg\"\u001b[0m\u001b[0;34m)\u001b[0m\u001b[0;34m\u001b[0m\u001b[0;34m\u001b[0m\u001b[0m\n\u001b[0m",
      "\u001b[0;31mException\u001b[0m: errorMsg"
     ]
    }
   ],
   "source": [
    "class MyContext:\n",
    "    def __enter__(self):\n",
    "        print(\"enter\")\n",
    "        return self\n",
    "    def __exit__(self, type, value, traceback):\n",
    "        print(f\"exit({type}, {value}, {traceback})\")\n",
    "        \n",
    "with MyContext() as c:\n",
    "    print(\"raise!\")\n",
    "    raise Exception(\"errorMsg\")"
   ]
  },
  {
   "cell_type": "code",
   "execution_count": 68,
   "metadata": {
    "slideshow": {
     "slide_type": "subslide"
    }
   },
   "outputs": [
    {
     "name": "stdout",
     "output_type": "stream",
     "text": [
      "enter\n",
      "raise!\n",
      "exit(<class 'Exception'>, errorMsg, <traceback object at 0x7f6bade299c8>)\n"
     ]
    }
   ],
   "source": [
    "class MyContext:\n",
    "    def __enter__(self):\n",
    "        print(\"enter\")\n",
    "        return self\n",
    "    def __exit__(self, type, value, traceback):\n",
    "        print(f\"exit({type}, {value}, {traceback})\")\n",
    "        return True\n",
    "        \n",
    "with MyContext() as c:\n",
    "    print(\"raise!\")\n",
    "    raise Exception(\"errorMsg\")"
   ]
  },
  {
   "cell_type": "code",
   "execution_count": 77,
   "metadata": {
    "slideshow": {
     "slide_type": "subslide"
    }
   },
   "outputs": [
    {
     "name": "stdout",
     "output_type": "stream",
     "text": [
      "enter\n",
      "value = 42\n",
      "exit\n"
     ]
    }
   ],
   "source": [
    "from contextlib import contextmanager\n",
    "\n",
    "@contextmanager\n",
    "def my_mgr(arg):\n",
    "    print(\"enter\")\n",
    "    yield arg\n",
    "    print(\"exit\")\n",
    "\n",
    "with my_mgr(42) as value:\n",
    "    print(f\"value = {value}\")"
   ]
  },
  {
   "cell_type": "code",
   "execution_count": 79,
   "metadata": {
    "slideshow": {
     "slide_type": "subslide"
    }
   },
   "outputs": [
    {
     "name": "stdout",
     "output_type": "stream",
     "text": [
      "enter\n",
      "inner code\n",
      "exit\n"
     ]
    }
   ],
   "source": [
    "from contextlib import contextmanager\n",
    "\n",
    "@contextmanager\n",
    "def my_mgr(arg):\n",
    "    print(\"enter\")\n",
    "    yield arg\n",
    "    print(\"exit\")\n",
    "\n",
    "with my_mgr(42):\n",
    "    print(f\"inner code\")\n"
   ]
  },
  {
   "cell_type": "code",
   "execution_count": 78,
   "metadata": {
    "slideshow": {
     "slide_type": "subslide"
    }
   },
   "outputs": [
    {
     "name": "stdout",
     "output_type": "stream",
     "text": [
      "enter\n",
      "value = 42\n"
     ]
    },
    {
     "ename": "Exception",
     "evalue": "Error!",
     "output_type": "error",
     "traceback": [
      "\u001b[0;31m---------------------------------------------------------------------------\u001b[0m",
      "\u001b[0;31mException\u001b[0m                                 Traceback (most recent call last)",
      "\u001b[0;32m<ipython-input-78-95851d54d309>\u001b[0m in \u001b[0;36m<module>\u001b[0;34m()\u001b[0m\n\u001b[1;32m      9\u001b[0m \u001b[0;32mwith\u001b[0m \u001b[0mmy_mgr\u001b[0m\u001b[0;34m(\u001b[0m\u001b[0;36m42\u001b[0m\u001b[0;34m)\u001b[0m \u001b[0;32mas\u001b[0m \u001b[0mvalue\u001b[0m\u001b[0;34m:\u001b[0m\u001b[0;34m\u001b[0m\u001b[0;34m\u001b[0m\u001b[0m\n\u001b[1;32m     10\u001b[0m     \u001b[0mprint\u001b[0m\u001b[0;34m(\u001b[0m\u001b[0;34mf\"value = {value}\"\u001b[0m\u001b[0;34m)\u001b[0m\u001b[0;34m\u001b[0m\u001b[0;34m\u001b[0m\u001b[0m\n\u001b[0;32m---> 11\u001b[0;31m     \u001b[0;32mraise\u001b[0m \u001b[0mException\u001b[0m\u001b[0;34m(\u001b[0m\u001b[0;34m\"Error!\"\u001b[0m\u001b[0;34m)\u001b[0m\u001b[0;34m\u001b[0m\u001b[0;34m\u001b[0m\u001b[0m\n\u001b[0m",
      "\u001b[0;31mException\u001b[0m: Error!"
     ]
    }
   ],
   "source": [
    "from contextlib import contextmanager\n",
    "\n",
    "@contextmanager\n",
    "def my_mgr(arg):\n",
    "    print(\"enter\")\n",
    "    yield arg\n",
    "    print(\"exit\")\n",
    "\n",
    "with my_mgr(42) as value:\n",
    "    print(f\"value = {value}\")\n",
    "    raise Exception(\"Error!\")"
   ]
  },
  {
   "cell_type": "code",
   "execution_count": 81,
   "metadata": {
    "slideshow": {
     "slide_type": "subslide"
    }
   },
   "outputs": [
    {
     "name": "stdout",
     "output_type": "stream",
     "text": [
      "enter\n",
      "value = 42\n",
      "ex = Error!\n",
      "do closing anyway\n",
      "exit\n"
     ]
    }
   ],
   "source": [
    "from contextlib import contextmanager\n",
    "\n",
    "@contextmanager\n",
    "def my_mgr(arg):\n",
    "    print(\"enter\")\n",
    "    try:\n",
    "        yield arg\n",
    "    except Exception as ex:\n",
    "        print(f\"ex = {ex}\")\n",
    "    finally:\n",
    "        print(\"do closing anyway\")\n",
    "    print(\"exit\")\n",
    "\n",
    "with my_mgr(42) as value:\n",
    "    print(f\"value = {value}\")\n",
    "    raise Exception(\"Error!\")"
   ]
  },
  {
   "cell_type": "code",
   "execution_count": 83,
   "metadata": {
    "slideshow": {
     "slide_type": "subslide"
    }
   },
   "outputs": [
    {
     "name": "stdout",
     "output_type": "stream",
     "text": [
      "enter\n",
      "value = 42\n",
      "ex = Error!\n",
      "do closing anyway\n"
     ]
    },
    {
     "ename": "Exception",
     "evalue": "Error!",
     "output_type": "error",
     "traceback": [
      "\u001b[0;31m---------------------------------------------------------------------------\u001b[0m",
      "\u001b[0;31mException\u001b[0m                                 Traceback (most recent call last)",
      "\u001b[0;32m<ipython-input-83-e38155946cfc>\u001b[0m in \u001b[0;36m<module>\u001b[0;34m()\u001b[0m\n\u001b[1;32m     15\u001b[0m \u001b[0;32mwith\u001b[0m \u001b[0mmy_mgr\u001b[0m\u001b[0;34m(\u001b[0m\u001b[0;36m42\u001b[0m\u001b[0;34m)\u001b[0m \u001b[0;32mas\u001b[0m \u001b[0mvalue\u001b[0m\u001b[0;34m:\u001b[0m\u001b[0;34m\u001b[0m\u001b[0;34m\u001b[0m\u001b[0m\n\u001b[1;32m     16\u001b[0m     \u001b[0mprint\u001b[0m\u001b[0;34m(\u001b[0m\u001b[0;34mf\"value = {value}\"\u001b[0m\u001b[0;34m)\u001b[0m\u001b[0;34m\u001b[0m\u001b[0;34m\u001b[0m\u001b[0m\n\u001b[0;32m---> 17\u001b[0;31m     \u001b[0;32mraise\u001b[0m \u001b[0mException\u001b[0m\u001b[0;34m(\u001b[0m\u001b[0;34m\"Error!\"\u001b[0m\u001b[0;34m)\u001b[0m\u001b[0;34m\u001b[0m\u001b[0;34m\u001b[0m\u001b[0m\n\u001b[0m",
      "\u001b[0;31mException\u001b[0m: Error!"
     ]
    }
   ],
   "source": [
    "from contextlib import contextmanager\n",
    "\n",
    "@contextmanager\n",
    "def my_mgr(arg):\n",
    "    print(\"enter\")\n",
    "    try:\n",
    "        yield arg\n",
    "    except Exception as ex:\n",
    "        print(f\"ex = {ex}\")\n",
    "        raise\n",
    "    finally:\n",
    "        print(\"do closing anyway\")\n",
    "    print(\"exit\")\n",
    "\n",
    "with my_mgr(42) as value:\n",
    "    print(f\"value = {value}\")\n",
    "    raise Exception(\"Error!\")"
   ]
  },
  {
   "cell_type": "markdown",
   "metadata": {
    "slideshow": {
     "slide_type": "slide"
    }
   },
   "source": [
    "## Динамическая работа с атрибутами"
   ]
  },
  {
   "cell_type": "code",
   "execution_count": 85,
   "metadata": {
    "slideshow": {
     "slide_type": "-"
    }
   },
   "outputs": [
    {
     "data": {
      "text/plain": [
       "42"
      ]
     },
     "execution_count": 85,
     "metadata": {},
     "output_type": "execute_result"
    },
    {
     "name": "stdout",
     "output_type": "stream",
     "text": [
      "set y = 2\n",
      "del x\n"
     ]
    }
   ],
   "source": [
    "class Dummy:\n",
    "    def __getattr__(self, name):\n",
    "        return 42\n",
    "    \n",
    "    def __setattr__(self, name, value):\n",
    "        print(f\"set {name} = {value}\")\n",
    "        \n",
    "    def __delattr__(self, name):\n",
    "        print(f\"del {name}\")\n",
    "        \n",
    "d = Dummy()\n",
    "d.x\n",
    "d.y = 2\n",
    "del d.x"
   ]
  },
  {
   "cell_type": "code",
   "execution_count": 89,
   "metadata": {
    "slideshow": {
     "slide_type": "subslide"
    }
   },
   "outputs": [
    {
     "name": "stdout",
     "output_type": "stream",
     "text": [
      "1\n",
      "None\n"
     ]
    }
   ],
   "source": [
    "from typing import NamedTuple\n",
    "class Maybe:\n",
    "    def __init__(self, value):\n",
    "        self.value = value\n",
    "        \n",
    "    def __getattr__(self, name):\n",
    "        if self.value is None:\n",
    "            return None\n",
    "        return getattr(self.value, name)\n",
    "    \n",
    "class Point(NamedTuple):\n",
    "    x: int \n",
    "    y: int \n",
    "        \n",
    "a = Maybe(Point(1, 2))\n",
    "b = Maybe(None)\n",
    "\n",
    "print(a.x) \n",
    "print(b.x)\n"
   ]
  },
  {
   "cell_type": "markdown",
   "metadata": {
    "slideshow": {
     "slide_type": "slide"
    }
   },
   "source": [
    "## New"
   ]
  },
  {
   "cell_type": "code",
   "execution_count": 93,
   "metadata": {
    "slideshow": {
     "slide_type": "-"
    }
   },
   "outputs": [
    {
     "name": "stdout",
     "output_type": "stream",
     "text": [
      "new(<class '__main__.Dummy'>, (), {})\n",
      "new(<class '__main__.Dummy'>, (), {})\n",
      "del <__main__.Dummy object at 0x7f6baddd61d0>\n"
     ]
    }
   ],
   "source": [
    "class Dummy():\n",
    "    def __new__(cls, *args, **kwargs):\n",
    "        print(f\"new({cls}, {args}, {kwargs})\")\n",
    "        return object.__new__(cls)\n",
    "    \n",
    "    def __del__(self):\n",
    "        print(f'del {self}')\n",
    "              \n",
    "d = Dummy()\n",
    "d2 = Dummy()\n",
    "del d"
   ]
  },
  {
   "cell_type": "code",
   "execution_count": null,
   "metadata": {},
   "outputs": [],
   "source": [
    "class WithCounter:\n",
    "    def __new__(cls, *args)"
   ]
  }
 ],
 "metadata": {
  "celltoolbar": "Slideshow",
  "kernelspec": {
   "display_name": "Python 3",
   "language": "python",
   "name": "python3"
  },
  "language_info": {
   "codemirror_mode": {
    "name": "ipython",
    "version": 3
   },
   "file_extension": ".py",
   "mimetype": "text/x-python",
   "name": "python",
   "nbconvert_exporter": "python",
   "pygments_lexer": "ipython3",
   "version": "3.6.3"
  }
 },
 "nbformat": 4,
 "nbformat_minor": 2
}
