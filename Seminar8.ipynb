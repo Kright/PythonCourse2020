{
 "cells": [
  {
   "cell_type": "code",
   "execution_count": 1,
   "metadata": {
    "slideshow": {
     "slide_type": "skip"
    }
   },
   "outputs": [],
   "source": [
    "from IPython.core.interactiveshell import InteractiveShell\n",
    "InteractiveShell.ast_node_interactivity = \"all\""
   ]
  },
  {
   "cell_type": "markdown",
   "metadata": {
    "slideshow": {
     "slide_type": "slide"
    }
   },
   "source": [
    "# Python 3\n",
    "## многопоточность\n",
    "\n",
    "https://docs.python.org/3/library/concurrency.html\n",
    "\n",
    "\n",
    "MIPT 2020\n",
    "\n",
    "Igor Slobodskov\n"
   ]
  },
  {
   "cell_type": "markdown",
   "metadata": {
    "slideshow": {
     "slide_type": "slide"
    }
   },
   "source": [
    "## Особенности питона\n",
    "\n",
    "* GIL - глобальная блокировка, практически \"однопоточное\" исполнение\n",
    "* Можно сделать отдельный процесс с ещё одним интерпретатором питона"
   ]
  },
  {
   "cell_type": "markdown",
   "metadata": {
    "slideshow": {
     "slide_type": "subslide"
    }
   },
   "source": [
    "## Executor\n",
    "\n",
    "https://docs.python.org/3/library/concurrent.futures.html\n",
    "\n",
    "* submit(fn, \\*args, \\*\\*kwargs) -> Future\n",
    "* map(func, \\*iterables, timeout=None, chunksize=1) -> Future\n",
    "* shutdown(wait=True)"
   ]
  },
  {
   "cell_type": "markdown",
   "metadata": {
    "slideshow": {
     "slide_type": "subslide"
    }
   },
   "source": [
    "## Future\n",
    "\n",
    "https://docs.python.org/3/library/concurrent.futures.html#future-objects\n",
    "    \n",
    "методы:\n",
    "* result(timeout=None)\n",
    "* статус:\n",
    "    * running, \n",
    "    * cancelled \n",
    "    * done\n",
    "* изменение статуса:\n",
    "    * set_result\n",
    "    * set_exception\n",
    "* и прочие\n",
    "    "
   ]
  },
  {
   "cell_type": "markdown",
   "metadata": {
    "slideshow": {
     "slide_type": "subslide"
    }
   },
   "source": [
    "* ThreadPoolExecutor - удобен для блокирующих операций типа работы с сетью\n",
    "* ProcessPoolExecutor - настоящая многозадачность"
   ]
  },
  {
   "cell_type": "markdown",
   "metadata": {
    "slideshow": {
     "slide_type": "slide"
    }
   },
   "source": [
    "# Example"
   ]
  },
  {
   "cell_type": "markdown",
   "metadata": {
    "slideshow": {
     "slide_type": "subslide"
    }
   },
   "source": [
    "## Executor.submit()"
   ]
  },
  {
   "cell_type": "code",
   "execution_count": 19,
   "metadata": {
    "slideshow": {
     "slide_type": "-"
    }
   },
   "outputs": [
    {
     "name": "stdout",
     "output_type": "stream",
     "text": [
      "<Future at 0x7f042821ada0 state=running>\n",
      "func 1 start\n",
      "func 1 finished\n",
      "42\n"
     ]
    }
   ],
   "source": [
    "from concurrent.futures import ThreadPoolExecutor\n",
    "import time\n",
    "\n",
    "\n",
    "def func(n):\n",
    "    print(f\"func {n} start\\n\", end='')\n",
    "    time.sleep(5)\n",
    "    print(f\"func {n} finished\\n\", end='')\n",
    "    return 42\n",
    "    \n",
    "with ThreadPoolExecutor() as executor:\n",
    "    future_result = executor.submit(func, 1)\n",
    "    print(future_result)\n",
    "    print(future_result.result())"
   ]
  },
  {
   "cell_type": "code",
   "execution_count": 20,
   "metadata": {
    "slideshow": {
     "slide_type": "subslide"
    }
   },
   "outputs": [],
   "source": [
    "## several futures"
   ]
  },
  {
   "cell_type": "code",
   "execution_count": 21,
   "metadata": {
    "slideshow": {
     "slide_type": "-"
    }
   },
   "outputs": [
    {
     "name": "stdout",
     "output_type": "stream",
     "text": [
      "func first start\n",
      "func second start\n",
      "<Future at 0x7f042821af60 state=running> <Future at 0x7f0428243860 state=running>\n",
      "func second finished\n",
      "func first finished\n",
      "result for first\n",
      "result for second\n"
     ]
    }
   ],
   "source": [
    "from concurrent.futures import ThreadPoolExecutor\n",
    "import time\n",
    "\n",
    "\n",
    "def func(n):\n",
    "    print(f\"func {n} start\\n\", end='')\n",
    "    time.sleep(5)\n",
    "    print(f\"func {n} finished\\n\", end='')\n",
    "    return f\"result for {n}\"\n",
    "    \n",
    "with ThreadPoolExecutor() as executor:\n",
    "    first = executor.submit(func, \"first\")\n",
    "    second = executor.submit(func, \"second\")\n",
    "    print(first, second)\n",
    "    print(first.result())\n",
    "    print(second.result())"
   ]
  },
  {
   "cell_type": "code",
   "execution_count": 11,
   "metadata": {
    "slideshow": {
     "slide_type": "subslide"
    }
   },
   "outputs": [
    {
     "name": "stdout",
     "output_type": "stream",
     "text": [
      "func 1 start\n",
      "func 2 start\n",
      "func 3 start\n",
      "result = <generator object Executor.map.<locals>.result_iterator at 0x7f04281c8d58>\n",
      "func 1 finished\n",
      "func 3 finished\n",
      "func 2 finished\n",
      "list(result) = [None, None, None]\n"
     ]
    }
   ],
   "source": [
    "from concurrent.futures import ThreadPoolExecutor\n",
    "import time\n",
    "\n",
    "\n",
    "def func(n):\n",
    "    print(f\"func {n} start\\n\", end='')\n",
    "    time.sleep(5)\n",
    "    print(f\"func {n} finished\\n\", end='')\n",
    "    \n",
    "with ThreadPoolExecutor() as executor:\n",
    "    result = executor.map(func, [1,2,3])\n",
    "    print(f\"result = {result}\")\n",
    "    print(f\"list(result) = {list(result)}\")"
   ]
  },
  {
   "cell_type": "markdown",
   "metadata": {
    "slideshow": {
     "slide_type": "subslide"
    }
   },
   "source": [
    "## max_workers"
   ]
  },
  {
   "cell_type": "code",
   "execution_count": 13,
   "metadata": {
    "slideshow": {
     "slide_type": "-"
    }
   },
   "outputs": [
    {
     "name": "stdout",
     "output_type": "stream",
     "text": [
      "func 1 start\n",
      "func 2 start\n",
      "result = <generator object Executor.map.<locals>.result_iterator at 0x7f04282c2bf8>\n",
      "func 1 finished\n",
      "func 2 finished\n",
      "func 3 start\n",
      "func 3 finished\n",
      "list(result) = [None, None, None]\n"
     ]
    }
   ],
   "source": [
    "from concurrent.futures import ThreadPoolExecutor\n",
    "import time\n",
    "\n",
    "def func(n):\n",
    "    print(f\"func {n} start\\n\", end='')\n",
    "    time.sleep(5)\n",
    "    print(f\"func {n} finished\\n\", end='')\n",
    "    \n",
    "with ThreadPoolExecutor(max_workers=2) as executor:\n",
    "    result = executor.map(func, [1,2,3])\n",
    "    print(f\"result = {result}\")\n",
    "    print(f\"list(result) = {list(result)}\")"
   ]
  },
  {
   "cell_type": "markdown",
   "metadata": {
    "slideshow": {
     "slide_type": "subslide"
    }
   },
   "source": [
    "## func with a few args"
   ]
  },
  {
   "cell_type": "code",
   "execution_count": 17,
   "metadata": {
    "slideshow": {
     "slide_type": "-"
    }
   },
   "outputs": [
    {
     "name": "stdout",
     "output_type": "stream",
     "text": [
      "func(1, f) start\n",
      "func(2, s) start\n",
      "result = <generator object Executor.map.<locals>.result_iterator at 0x7f04281c8d58>\n",
      "func(2, s) finished\n",
      "func(1, f) finished\n",
      "list(result) = [None, None]\n"
     ]
    }
   ],
   "source": [
    "from concurrent.futures import ThreadPoolExecutor\n",
    "import time\n",
    "\n",
    "def func(a, b):\n",
    "    print(f\"func({a}, {b}) start\\n\", end='')\n",
    "    time.sleep(5)\n",
    "    print(f\"func({a}, {b}) finished\\n\", end='')\n",
    "    \n",
    "with ThreadPoolExecutor() as executor:\n",
    "    result = executor.map(lambda args: func(*args), [(1,'f'),(2, 's')])\n",
    "    print(f\"result = {result}\")\n",
    "    print(f\"list(result) = {list(result)}\")"
   ]
  },
  {
   "cell_type": "markdown",
   "metadata": {
    "slideshow": {
     "slide_type": "subslide"
    }
   },
   "source": [
    "## ThreadPoolExecutor vs ProcessPoolExecutor"
   ]
  },
  {
   "cell_type": "code",
   "execution_count": 22,
   "metadata": {
    "slideshow": {
     "slide_type": "-"
    }
   },
   "outputs": [
    {
     "data": {
      "text/plain": [
       "[10946, 10946, 10946, 10946]"
      ]
     },
     "execution_count": 22,
     "metadata": {},
     "output_type": "execute_result"
    },
    {
     "name": "stdout",
     "output_type": "stream",
     "text": [
      "0.01505422592163086\n"
     ]
    },
    {
     "data": {
      "text/plain": [
       "[10946, 10946, 10946, 10946]"
      ]
     },
     "execution_count": 22,
     "metadata": {},
     "output_type": "execute_result"
    },
    {
     "name": "stdout",
     "output_type": "stream",
     "text": [
      "0.033594608306884766\n"
     ]
    }
   ],
   "source": [
    "from concurrent.futures import ThreadPoolExecutor, ProcessPoolExecutor\n",
    "import time\n",
    "\n",
    "def fib(n): return fib(n-2) + fib(n-1) if n>2 else 1\n",
    "\n",
    "t = time.time()\n",
    "with ThreadPoolExecutor() as executor:\n",
    "    list(executor.map(fib, [21, 21, 21, 21]))\n",
    "    print (time.time() - t)\n",
    "    \n",
    "t = time.time()\n",
    "with ProcessPoolExecutor() as executor:\n",
    "    list(executor.map(fib, [21, 21, 21, 21]))\n",
    "    print (time.time() - t)"
   ]
  },
  {
   "cell_type": "code",
   "execution_count": 26,
   "metadata": {
    "slideshow": {
     "slide_type": "subslide"
    }
   },
   "outputs": [
    {
     "data": {
      "text/plain": [
       "[2178309, 2178309, 2178309, 2178309]"
      ]
     },
     "execution_count": 26,
     "metadata": {},
     "output_type": "execute_result"
    },
    {
     "name": "stdout",
     "output_type": "stream",
     "text": [
      "2.2270658016204834\n"
     ]
    },
    {
     "data": {
      "text/plain": [
       "[2178309, 2178309, 2178309, 2178309]"
      ]
     },
     "execution_count": 26,
     "metadata": {},
     "output_type": "execute_result"
    },
    {
     "name": "stdout",
     "output_type": "stream",
     "text": [
      "1.2138030529022217\n"
     ]
    }
   ],
   "source": [
    "from concurrent.futures import ThreadPoolExecutor, ProcessPoolExecutor\n",
    "import time\n",
    "\n",
    "def fib(n): return fib(n-2) + fib(n-1) if n>2 else 1\n",
    "\n",
    "t = time.time()\n",
    "with ThreadPoolExecutor() as executor:\n",
    "    list(executor.map(fib, [32, 32, 32, 32]))\n",
    "    print (time.time() - t)\n",
    "    \n",
    "t = time.time()\n",
    "with ProcessPoolExecutor() as executor:\n",
    "    list(executor.map(fib, [32, 32, 32, 32]))\n",
    "    print (time.time() - t)"
   ]
  },
  {
   "cell_type": "markdown",
   "metadata": {
    "slideshow": {
     "slide_type": "slide"
    }
   },
   "source": [
    "## fork"
   ]
  },
  {
   "cell_type": "code",
   "execution_count": 29,
   "metadata": {
    "slideshow": {
     "slide_type": "-"
    }
   },
   "outputs": [
    {
     "name": "stdout",
     "output_type": "stream",
     "text": [
      "child_pid = 6207\n",
      "child_pid = 0\n"
     ]
    }
   ],
   "source": [
    "import os\n",
    "\n",
    "child_pid = os.fork()\n",
    "print(f\"child_pid = {child_pid}\")"
   ]
  },
  {
   "cell_type": "code",
   "execution_count": 30,
   "metadata": {
    "slideshow": {
     "slide_type": "subslide"
    }
   },
   "outputs": [
    {
     "name": "stdout",
     "output_type": "stream",
     "text": [
      "parent\n",
      "child\n"
     ]
    }
   ],
   "source": [
    "import os\n",
    "import time \n",
    "\n",
    "child_pid = os.fork()\n",
    "\n",
    "if child_pid == 0:\n",
    "    print(\"child\")\n",
    "else:\n",
    "    print(\"parent\")"
   ]
  },
  {
   "cell_type": "markdown",
   "metadata": {
    "slideshow": {
     "slide_type": "slide"
    }
   },
   "source": [
    "## Process, Thread\n",
    "\n",
    "https://docs.python.org/3/library/threading.html#threading.Thread"
   ]
  },
  {
   "cell_type": "code",
   "execution_count": 35,
   "metadata": {
    "slideshow": {
     "slide_type": "subslide"
    }
   },
   "outputs": [
    {
     "name": "stdout",
     "output_type": "stream",
     "text": [
      "p created\n",
      "func(f) started\n",
      "p runned\n",
      "func(f) finished\n",
      "joined to p\n"
     ]
    }
   ],
   "source": [
    "from multiprocessing import Process\n",
    "import time \n",
    "\n",
    "def func(n):\n",
    "    print(f\"func({n}) started\")\n",
    "    time.sleep(1)\n",
    "    print(f\"func({n}) finished\")\n",
    "\n",
    "p = Process(target=func, args=(\"f\",))\n",
    "print(\"p created\")\n",
    "p.start()\n",
    "print(\"p runned\")\n",
    "p.join()\n",
    "print(\"joined to p\")"
   ]
  },
  {
   "cell_type": "code",
   "execution_count": 39,
   "metadata": {
    "slideshow": {
     "slide_type": "subslide"
    }
   },
   "outputs": [
    {
     "name": "stdout",
     "output_type": "stream",
     "text": [
      "1\n",
      "2\n",
      "3\n",
      "end\n"
     ]
    }
   ],
   "source": [
    "from multiprocessing import Queue\n",
    "\n",
    "def producer(data, q: Queue):\n",
    "    for elem in data:\n",
    "        q.put(elem)\n",
    "    q.put(\"end\")\n",
    "        \n",
    "def consumer(q: Queue):\n",
    "    while True:\n",
    "        elem = q.get()\n",
    "        print(elem)\n",
    "        if elem == \"end\":\n",
    "            return\n",
    "\n",
    "        \n",
    "data = [1,2,3]\n",
    "q = Queue()\n",
    "p1 = Process(target=producer, args=(data, q))\n",
    "p2 = Process(target=consumer, args=(q,))\n",
    "\n",
    "p2.start()\n",
    "p1.start()\n",
    "\n",
    "p2.join()\n",
    "        "
   ]
  },
  {
   "cell_type": "code",
   "execution_count": null,
   "metadata": {},
   "outputs": [],
   "source": []
  }
 ],
 "metadata": {
  "celltoolbar": "Slideshow",
  "kernelspec": {
   "display_name": "Python 3",
   "language": "python",
   "name": "python3"
  },
  "language_info": {
   "codemirror_mode": {
    "name": "ipython",
    "version": 3
   },
   "file_extension": ".py",
   "mimetype": "text/x-python",
   "name": "python",
   "nbconvert_exporter": "python",
   "pygments_lexer": "ipython3",
   "version": "3.6.3"
  }
 },
 "nbformat": 4,
 "nbformat_minor": 2
}
