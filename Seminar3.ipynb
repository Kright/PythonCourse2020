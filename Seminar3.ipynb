{
 "cells": [
  {
   "cell_type": "code",
   "execution_count": 2,
   "metadata": {
    "slideshow": {
     "slide_type": "skip"
    }
   },
   "outputs": [],
   "source": [
    "from IPython.core.interactiveshell import InteractiveShell\n",
    "InteractiveShell.ast_node_interactivity = \"all\""
   ]
  },
  {
   "cell_type": "markdown",
   "metadata": {
    "slideshow": {
     "slide_type": "slide"
    }
   },
   "source": [
    "\n",
    "# Python 3\n",
    "## словари, множества, модуль collections\n",
    "## бонусная часть: импорт модулей\n",
    "\n",
    "MIPT 2020\n",
    "\n",
    "Igor Slobodskov\n"
   ]
  },
  {
   "cell_type": "markdown",
   "metadata": {
    "slideshow": {
     "slide_type": "slide"
    }
   },
   "source": [
    "## Словари"
   ]
  },
  {
   "cell_type": "markdown",
   "metadata": {},
   "source": [
    "### хранят пары ключ => значение"
   ]
  },
  {
   "cell_type": "code",
   "execution_count": 24,
   "metadata": {},
   "outputs": [
    {
     "name": "stdout",
     "output_type": "stream",
     "text": [
      "{1: 2, 'key': 'value'}\n",
      "True\n",
      "False\n"
     ]
    }
   ],
   "source": [
    "a = {1: 2, \"key\": \"value\"}\n",
    "\n",
    "print(a)\n",
    "print(1 in a)\n",
    "print(2 in a)"
   ]
  },
  {
   "cell_type": "markdown",
   "metadata": {
    "slideshow": {
     "slide_type": "subslide"
    }
   },
   "source": [
    "### ключи True и False ведут себя как ключи 1 и 0"
   ]
  },
  {
   "cell_type": "code",
   "execution_count": 30,
   "metadata": {},
   "outputs": [
    {
     "name": "stdout",
     "output_type": "stream",
     "text": [
      "1\n",
      "0\n",
      "{0: 0, 1: 1}\n",
      "{0: 0, 1: 2}\n"
     ]
    }
   ],
   "source": [
    "a = {0: 0, 1: 1}\n",
    "\n",
    "print(a[True])\n",
    "print(a[False])\n",
    "print(a)\n",
    "\n",
    "a[True] = 2\n",
    "print(a)"
   ]
  },
  {
   "cell_type": "code",
   "execution_count": 35,
   "metadata": {},
   "outputs": [
    {
     "data": {
      "text/plain": [
       "{0: False, True: True}"
      ]
     },
     "execution_count": 35,
     "metadata": {},
     "output_type": "execute_result"
    }
   ],
   "source": [
    "{0:0, True: True, False: False}"
   ]
  },
  {
   "cell_type": "markdown",
   "metadata": {
    "slideshow": {
     "slide_type": "subslide"
    }
   },
   "source": [
    "### None - вполне валидный ключ"
   ]
  },
  {
   "cell_type": "code",
   "execution_count": 36,
   "metadata": {},
   "outputs": [
    {
     "data": {
      "text/plain": [
       "{0: 0, None: None}"
      ]
     },
     "execution_count": 36,
     "metadata": {},
     "output_type": "execute_result"
    }
   ],
   "source": [
    "a = {0: 0}\n",
    "a[None] = None\n",
    "a"
   ]
  },
  {
   "cell_type": "markdown",
   "metadata": {
    "slideshow": {
     "slide_type": "subslide"
    }
   },
   "source": [
    "## удаление элементов"
   ]
  },
  {
   "cell_type": "code",
   "execution_count": 235,
   "metadata": {},
   "outputs": [
    {
     "data": {
      "text/plain": [
       "{0: 0, 'key': 'value'}"
      ]
     },
     "execution_count": 235,
     "metadata": {},
     "output_type": "execute_result"
    },
    {
     "data": {
      "text/plain": [
       "{'key': 'value'}"
      ]
     },
     "execution_count": 235,
     "metadata": {},
     "output_type": "execute_result"
    },
    {
     "data": {
      "text/plain": [
       "{}"
      ]
     },
     "execution_count": 235,
     "metadata": {},
     "output_type": "execute_result"
    }
   ],
   "source": [
    "a = {0: 0, \"key\": \"value\"}\n",
    "a\n",
    "\n",
    "del a[0]\n",
    "a\n",
    "\n",
    "a.clear()\n",
    "a"
   ]
  },
  {
   "cell_type": "markdown",
   "metadata": {
    "slideshow": {
     "slide_type": "subslide"
    }
   },
   "source": [
    "## наличие ключа"
   ]
  },
  {
   "cell_type": "code",
   "execution_count": 45,
   "metadata": {},
   "outputs": [
    {
     "data": {
      "text/plain": [
       "True"
      ]
     },
     "execution_count": 45,
     "metadata": {},
     "output_type": "execute_result"
    }
   ],
   "source": [
    "0 in {0: 1}"
   ]
  },
  {
   "cell_type": "code",
   "execution_count": 46,
   "metadata": {},
   "outputs": [
    {
     "data": {
      "text/plain": [
       "False"
      ]
     },
     "execution_count": 46,
     "metadata": {},
     "output_type": "execute_result"
    }
   ],
   "source": [
    "1 in {0: 1}"
   ]
  },
  {
   "cell_type": "code",
   "execution_count": 137,
   "metadata": {},
   "outputs": [
    {
     "data": {
      "text/plain": [
       "'default value'"
      ]
     },
     "execution_count": 137,
     "metadata": {},
     "output_type": "execute_result"
    },
    {
     "data": {
      "text/plain": [
       "1"
      ]
     },
     "execution_count": 137,
     "metadata": {},
     "output_type": "execute_result"
    }
   ],
   "source": [
    "a = {1: 1}\n",
    "a.get('key', 'default value')\n",
    "a.get(1, 'default value')"
   ]
  },
  {
   "cell_type": "markdown",
   "metadata": {
    "slideshow": {
     "slide_type": "subslide"
    }
   },
   "source": [
    "### итерирование по ключам, значениям, парам"
   ]
  },
  {
   "cell_type": "code",
   "execution_count": 50,
   "metadata": {},
   "outputs": [
    {
     "name": "stdout",
     "output_type": "stream",
     "text": [
      "a.keys() = [0, 'key']\n",
      "a.values() = [1, 'value']\n",
      "a.items() = [(0, 1), ('key', 'value')]\n"
     ]
    }
   ],
   "source": [
    "a = {0: 1, \"key\": \"value\"}\n",
    "print(f\"a.keys() = {list(a.keys())}\")\n",
    "print(f\"a.values() = {list(a.values())}\")\n",
    "print(f\"a.items() = {list(a.items())}\")"
   ]
  },
  {
   "cell_type": "markdown",
   "metadata": {
    "slideshow": {
     "slide_type": "subslide"
    }
   },
   "source": [
    "## добавление нескольких элементов"
   ]
  },
  {
   "cell_type": "code",
   "execution_count": 52,
   "metadata": {},
   "outputs": [
    {
     "name": "stdout",
     "output_type": "stream",
     "text": [
      "{0: 1, 2: 9000, 'key': 'value'}\n",
      "{'key': 'value', 2: 9000}\n"
     ]
    }
   ],
   "source": [
    "a = {0: 1, 2: 3}\n",
    "b = {\"key\": \"value\", 2: 9000}\n",
    "a.update(b)\n",
    "print(a)\n",
    "print(b)"
   ]
  },
  {
   "cell_type": "markdown",
   "metadata": {
    "slideshow": {
     "slide_type": "slide"
    }
   },
   "source": [
    "# Множества"
   ]
  },
  {
   "cell_type": "markdown",
   "metadata": {},
   "source": [
    "Похоже на словарь, который хранит только ключи."
   ]
  },
  {
   "cell_type": "code",
   "execution_count": 79,
   "metadata": {},
   "outputs": [
    {
     "data": {
      "text/plain": [
       "{False, 1, 2, 3}"
      ]
     },
     "execution_count": 79,
     "metadata": {},
     "output_type": "execute_result"
    }
   ],
   "source": [
    "a = {1, 2}\n",
    "a.update({True, False, 3})\n",
    "a"
   ]
  },
  {
   "cell_type": "code",
   "execution_count": 80,
   "metadata": {},
   "outputs": [
    {
     "data": {
      "text/plain": [
       "True"
      ]
     },
     "execution_count": 80,
     "metadata": {},
     "output_type": "execute_result"
    }
   ],
   "source": [
    "0 in {0}"
   ]
  },
  {
   "cell_type": "code",
   "execution_count": 82,
   "metadata": {
    "slideshow": {
     "slide_type": "subslide"
    }
   },
   "outputs": [
    {
     "data": {
      "text/plain": [
       "True"
      ]
     },
     "execution_count": 82,
     "metadata": {},
     "output_type": "execute_result"
    }
   ],
   "source": [
    "False in {0}"
   ]
  },
  {
   "cell_type": "code",
   "execution_count": 84,
   "metadata": {},
   "outputs": [
    {
     "data": {
      "text/plain": [
       "False"
      ]
     },
     "execution_count": 84,
     "metadata": {},
     "output_type": "execute_result"
    }
   ],
   "source": [
    "False in {4, 5}"
   ]
  },
  {
   "cell_type": "code",
   "execution_count": 101,
   "metadata": {
    "slideshow": {
     "slide_type": "subslide"
    }
   },
   "outputs": [
    {
     "data": {
      "text/plain": [
       "{1, 2, 3, 4, 5}"
      ]
     },
     "execution_count": 101,
     "metadata": {},
     "output_type": "execute_result"
    }
   ],
   "source": [
    "a = {1, 2}\n",
    "a.update({3, 4})\n",
    "a.add(5)\n",
    "a"
   ]
  },
  {
   "cell_type": "code",
   "execution_count": 102,
   "metadata": {},
   "outputs": [
    {
     "data": {
      "text/plain": [
       "{2}"
      ]
     },
     "execution_count": 102,
     "metadata": {},
     "output_type": "execute_result"
    }
   ],
   "source": [
    "a = {1, 2}\n",
    "a.remove(1)\n",
    "a"
   ]
  },
  {
   "cell_type": "markdown",
   "metadata": {
    "slideshow": {
     "slide_type": "slide"
    }
   },
   "source": [
    "## операции над множествами"
   ]
  },
  {
   "cell_type": "code",
   "execution_count": 108,
   "metadata": {},
   "outputs": [
    {
     "data": {
      "text/plain": [
       "{'key'}"
      ]
     },
     "execution_count": 108,
     "metadata": {},
     "output_type": "execute_result"
    },
    {
     "data": {
      "text/plain": [
       "{2}"
      ]
     },
     "execution_count": 108,
     "metadata": {},
     "output_type": "execute_result"
    },
    {
     "data": {
      "text/plain": [
       "{1}"
      ]
     },
     "execution_count": 108,
     "metadata": {},
     "output_type": "execute_result"
    },
    {
     "data": {
      "text/plain": [
       "{1, 2, 'key'}"
      ]
     },
     "execution_count": 108,
     "metadata": {},
     "output_type": "execute_result"
    },
    {
     "data": {
      "text/plain": [
       "{2, 'key'}"
      ]
     },
     "execution_count": 108,
     "metadata": {},
     "output_type": "execute_result"
    }
   ],
   "source": [
    "a = {1, 2}\n",
    "b = {1, \"key\"}\n",
    "\n",
    "b - a\n",
    "a - b\n",
    "a & b\n",
    "a | b\n",
    "a ^ b"
   ]
  },
  {
   "cell_type": "markdown",
   "metadata": {
    "slideshow": {
     "slide_type": "subslide"
    }
   },
   "source": [
    "## то же самое"
   ]
  },
  {
   "cell_type": "code",
   "execution_count": 107,
   "metadata": {},
   "outputs": [
    {
     "data": {
      "text/plain": [
       "{'key'}"
      ]
     },
     "execution_count": 107,
     "metadata": {},
     "output_type": "execute_result"
    },
    {
     "data": {
      "text/plain": [
       "{2}"
      ]
     },
     "execution_count": 107,
     "metadata": {},
     "output_type": "execute_result"
    },
    {
     "data": {
      "text/plain": [
       "{1}"
      ]
     },
     "execution_count": 107,
     "metadata": {},
     "output_type": "execute_result"
    },
    {
     "data": {
      "text/plain": [
       "{1, 2, 'key'}"
      ]
     },
     "execution_count": 107,
     "metadata": {},
     "output_type": "execute_result"
    },
    {
     "data": {
      "text/plain": [
       "{2, 'key'}"
      ]
     },
     "execution_count": 107,
     "metadata": {},
     "output_type": "execute_result"
    }
   ],
   "source": [
    "a = {1, 2}\n",
    "b = {1, \"key\"}\n",
    "\n",
    "b.difference(a)\n",
    "a.difference(b)\n",
    "a.intersection(b)\n",
    "a.union(b)\n",
    "a.symmetric_difference(b)"
   ]
  },
  {
   "cell_type": "code",
   "execution_count": 106,
   "metadata": {
    "slideshow": {
     "slide_type": "subslide"
    }
   },
   "outputs": [
    {
     "data": {
      "text/plain": [
       "True"
      ]
     },
     "execution_count": 106,
     "metadata": {},
     "output_type": "execute_result"
    },
    {
     "data": {
      "text/plain": [
       "True"
      ]
     },
     "execution_count": 106,
     "metadata": {},
     "output_type": "execute_result"
    },
    {
     "data": {
      "text/plain": [
       "True"
      ]
     },
     "execution_count": 106,
     "metadata": {},
     "output_type": "execute_result"
    }
   ],
   "source": [
    "a = {1, 2}\n",
    "a.issubset(a)\n",
    "a.issubset(a)\n",
    "a.isdisjoint({})"
   ]
  },
  {
   "cell_type": "markdown",
   "metadata": {
    "slideshow": {
     "slide_type": "subslide"
    }
   },
   "source": [
    "Изменение существующей коллекции"
   ]
  },
  {
   "cell_type": "code",
   "execution_count": 114,
   "metadata": {},
   "outputs": [
    {
     "data": {
      "text/plain": [
       "{2}"
      ]
     },
     "execution_count": 114,
     "metadata": {},
     "output_type": "execute_result"
    }
   ],
   "source": [
    "a = {1, 2}\n",
    "a &= {2, 3}\n",
    "a"
   ]
  },
  {
   "cell_type": "code",
   "execution_count": 115,
   "metadata": {},
   "outputs": [
    {
     "data": {
      "text/plain": [
       "{2}"
      ]
     },
     "execution_count": 115,
     "metadata": {},
     "output_type": "execute_result"
    }
   ],
   "source": [
    "a = {1, 2}\n",
    "a.intersection_update({2, 3})\n",
    "a"
   ]
  },
  {
   "cell_type": "code",
   "execution_count": 243,
   "metadata": {
    "slideshow": {
     "slide_type": "subslide"
    }
   },
   "outputs": [
    {
     "data": {
      "text/plain": [
       "dict"
      ]
     },
     "execution_count": 243,
     "metadata": {},
     "output_type": "execute_result"
    },
    {
     "data": {
      "text/plain": [
       "set"
      ]
     },
     "execution_count": 243,
     "metadata": {},
     "output_type": "execute_result"
    },
    {
     "data": {
      "text/plain": [
       "dict"
      ]
     },
     "execution_count": 243,
     "metadata": {},
     "output_type": "execute_result"
    }
   ],
   "source": [
    "{\"key\": \"value\"}.__class__ \n",
    "{\"key\"}.__class__\n",
    "\n",
    "{}.__class__ "
   ]
  },
  {
   "cell_type": "code",
   "execution_count": 244,
   "metadata": {},
   "outputs": [
    {
     "data": {
      "text/plain": [
       "set()"
      ]
     },
     "execution_count": 244,
     "metadata": {},
     "output_type": "execute_result"
    },
    {
     "data": {
      "text/plain": [
       "{}"
      ]
     },
     "execution_count": 244,
     "metadata": {},
     "output_type": "execute_result"
    }
   ],
   "source": [
    "set()\n",
    "dict()"
   ]
  },
  {
   "cell_type": "markdown",
   "metadata": {
    "slideshow": {
     "slide_type": "slide"
    }
   },
   "source": [
    "# Hashable types"
   ]
  },
  {
   "cell_type": "markdown",
   "metadata": {},
   "source": [
    "хеш ключей не должен изменяться"
   ]
  },
  {
   "cell_type": "code",
   "execution_count": 56,
   "metadata": {},
   "outputs": [
    {
     "data": {
      "text/plain": [
       "{(1, 2): 3}"
      ]
     },
     "execution_count": 56,
     "metadata": {},
     "output_type": "execute_result"
    }
   ],
   "source": [
    "{(1, 2): 3}"
   ]
  },
  {
   "cell_type": "code",
   "execution_count": 57,
   "metadata": {},
   "outputs": [
    {
     "ename": "TypeError",
     "evalue": "unhashable type: 'list'",
     "output_type": "error",
     "traceback": [
      "\u001b[0;31m---------------------------------------------------------------------------\u001b[0m",
      "\u001b[0;31mTypeError\u001b[0m                                 Traceback (most recent call last)",
      "\u001b[0;32m<ipython-input-57-9a485355933a>\u001b[0m in \u001b[0;36m<module>\u001b[0;34m()\u001b[0m\n\u001b[0;32m----> 1\u001b[0;31m \u001b[0;34m{\u001b[0m\u001b[0;34m[\u001b[0m\u001b[0;36m1\u001b[0m\u001b[0;34m,\u001b[0m \u001b[0;36m2\u001b[0m\u001b[0;34m]\u001b[0m\u001b[0;34m:\u001b[0m \u001b[0;36m3\u001b[0m\u001b[0;34m}\u001b[0m\u001b[0;34m\u001b[0m\u001b[0;34m\u001b[0m\u001b[0m\n\u001b[0m",
      "\u001b[0;31mTypeError\u001b[0m: unhashable type: 'list'"
     ]
    }
   ],
   "source": [
    "{[1, 2]: 3}"
   ]
  },
  {
   "cell_type": "markdown",
   "metadata": {
    "slideshow": {
     "slide_type": "subslide"
    }
   },
   "source": [
    "встроенная функция **hash**"
   ]
  },
  {
   "cell_type": "code",
   "execution_count": 59,
   "metadata": {},
   "outputs": [
    {
     "data": {
      "text/plain": [
       "0"
      ]
     },
     "execution_count": 59,
     "metadata": {},
     "output_type": "execute_result"
    }
   ],
   "source": [
    "hash(0)"
   ]
  },
  {
   "cell_type": "code",
   "execution_count": 60,
   "metadata": {},
   "outputs": [
    {
     "data": {
      "text/plain": [
       "42"
      ]
     },
     "execution_count": 60,
     "metadata": {},
     "output_type": "execute_result"
    }
   ],
   "source": [
    "hash(42)"
   ]
  },
  {
   "cell_type": "code",
   "execution_count": 61,
   "metadata": {},
   "outputs": [
    {
     "data": {
      "text/plain": [
       "461168601842738689"
      ]
     },
     "execution_count": 61,
     "metadata": {},
     "output_type": "execute_result"
    }
   ],
   "source": [
    "hash(1.2)"
   ]
  },
  {
   "cell_type": "code",
   "execution_count": 62,
   "metadata": {
    "slideshow": {
     "slide_type": "subslide"
    }
   },
   "outputs": [
    {
     "data": {
      "text/plain": [
       "1996714097518311431"
      ]
     },
     "execution_count": 62,
     "metadata": {},
     "output_type": "execute_result"
    }
   ],
   "source": [
    "hash(\"str\")"
   ]
  },
  {
   "cell_type": "code",
   "execution_count": 196,
   "metadata": {},
   "outputs": [
    {
     "data": {
      "text/plain": [
       "1"
      ]
     },
     "execution_count": 196,
     "metadata": {},
     "output_type": "execute_result"
    }
   ],
   "source": [
    "hash(True)"
   ]
  },
  {
   "cell_type": "code",
   "execution_count": 65,
   "metadata": {},
   "outputs": [
    {
     "data": {
      "text/plain": [
       "3713081631934410656"
      ]
     },
     "execution_count": 65,
     "metadata": {},
     "output_type": "execute_result"
    }
   ],
   "source": [
    "hash((1, 2))"
   ]
  },
  {
   "cell_type": "markdown",
   "metadata": {
    "slideshow": {
     "slide_type": "subslide"
    }
   },
   "source": [
    "## unhashable types"
   ]
  },
  {
   "cell_type": "code",
   "execution_count": 66,
   "metadata": {},
   "outputs": [
    {
     "ename": "TypeError",
     "evalue": "unhashable type: 'list'",
     "output_type": "error",
     "traceback": [
      "\u001b[0;31m---------------------------------------------------------------------------\u001b[0m",
      "\u001b[0;31mTypeError\u001b[0m                                 Traceback (most recent call last)",
      "\u001b[0;32m<ipython-input-66-4b420d0158ba>\u001b[0m in \u001b[0;36m<module>\u001b[0;34m()\u001b[0m\n\u001b[0;32m----> 1\u001b[0;31m \u001b[0mhash\u001b[0m\u001b[0;34m(\u001b[0m\u001b[0;34m[\u001b[0m\u001b[0;36m1\u001b[0m\u001b[0;34m,\u001b[0m \u001b[0;36m2\u001b[0m\u001b[0;34m]\u001b[0m\u001b[0;34m)\u001b[0m\u001b[0;34m\u001b[0m\u001b[0;34m\u001b[0m\u001b[0m\n\u001b[0m",
      "\u001b[0;31mTypeError\u001b[0m: unhashable type: 'list'"
     ]
    }
   ],
   "source": [
    "hash([1, 2])"
   ]
  },
  {
   "cell_type": "code",
   "execution_count": 72,
   "metadata": {},
   "outputs": [
    {
     "ename": "TypeError",
     "evalue": "unhashable type: 'list'",
     "output_type": "error",
     "traceback": [
      "\u001b[0;31m---------------------------------------------------------------------------\u001b[0m",
      "\u001b[0;31mTypeError\u001b[0m                                 Traceback (most recent call last)",
      "\u001b[0;32m<ipython-input-72-e6ddf84a02ed>\u001b[0m in \u001b[0;36m<module>\u001b[0;34m()\u001b[0m\n\u001b[0;32m----> 1\u001b[0;31m \u001b[0mhash\u001b[0m\u001b[0;34m(\u001b[0m\u001b[0;34m(\u001b[0m\u001b[0;36m1\u001b[0m\u001b[0;34m,\u001b[0m \u001b[0;34m[\u001b[0m\u001b[0;36m2\u001b[0m\u001b[0;34m,\u001b[0m \u001b[0;36m3\u001b[0m\u001b[0;34m]\u001b[0m\u001b[0;34m)\u001b[0m\u001b[0;34m)\u001b[0m\u001b[0;34m\u001b[0m\u001b[0;34m\u001b[0m\u001b[0m\n\u001b[0m\u001b[1;32m      2\u001b[0m \u001b[0mhash\u001b[0m\u001b[0;34m(\u001b[0m\u001b[0;34m{\u001b[0m\u001b[0;36m1\u001b[0m\u001b[0;34m,\u001b[0m \u001b[0;36m2\u001b[0m\u001b[0;34m}\u001b[0m\u001b[0;34m)\u001b[0m\u001b[0;34m\u001b[0m\u001b[0;34m\u001b[0m\u001b[0m\n",
      "\u001b[0;31mTypeError\u001b[0m: unhashable type: 'list'"
     ]
    }
   ],
   "source": [
    "hash((1, [2, 3]))"
   ]
  },
  {
   "cell_type": "code",
   "execution_count": 73,
   "metadata": {
    "slideshow": {
     "slide_type": "subslide"
    }
   },
   "outputs": [
    {
     "ename": "TypeError",
     "evalue": "unhashable type: 'set'",
     "output_type": "error",
     "traceback": [
      "\u001b[0;31m---------------------------------------------------------------------------\u001b[0m",
      "\u001b[0;31mTypeError\u001b[0m                                 Traceback (most recent call last)",
      "\u001b[0;32m<ipython-input-73-42051ea12b27>\u001b[0m in \u001b[0;36m<module>\u001b[0;34m()\u001b[0m\n\u001b[0;32m----> 1\u001b[0;31m \u001b[0mhash\u001b[0m\u001b[0;34m(\u001b[0m\u001b[0;34m{\u001b[0m\u001b[0;36m1\u001b[0m\u001b[0;34m,\u001b[0m \u001b[0;36m2\u001b[0m\u001b[0;34m}\u001b[0m\u001b[0;34m)\u001b[0m\u001b[0;34m\u001b[0m\u001b[0;34m\u001b[0m\u001b[0m\n\u001b[0m",
      "\u001b[0;31mTypeError\u001b[0m: unhashable type: 'set'"
     ]
    }
   ],
   "source": [
    "hash({1, 2})"
   ]
  },
  {
   "cell_type": "code",
   "execution_count": 74,
   "metadata": {},
   "outputs": [
    {
     "ename": "TypeError",
     "evalue": "unhashable type: 'dict'",
     "output_type": "error",
     "traceback": [
      "\u001b[0;31m---------------------------------------------------------------------------\u001b[0m",
      "\u001b[0;31mTypeError\u001b[0m                                 Traceback (most recent call last)",
      "\u001b[0;32m<ipython-input-74-a4edb34470cf>\u001b[0m in \u001b[0;36m<module>\u001b[0;34m()\u001b[0m\n\u001b[0;32m----> 1\u001b[0;31m \u001b[0mhash\u001b[0m\u001b[0;34m(\u001b[0m\u001b[0;34m{\u001b[0m\u001b[0;36m1\u001b[0m\u001b[0;34m:\u001b[0m \u001b[0;36m2\u001b[0m\u001b[0;34m}\u001b[0m\u001b[0;34m)\u001b[0m\u001b[0;34m\u001b[0m\u001b[0;34m\u001b[0m\u001b[0m\n\u001b[0m",
      "\u001b[0;31mTypeError\u001b[0m: unhashable type: 'dict'"
     ]
    }
   ],
   "source": [
    "hash({1: 2})"
   ]
  },
  {
   "cell_type": "markdown",
   "metadata": {
    "slideshow": {
     "slide_type": "slide"
    }
   },
   "source": [
    "## Неизменяемые коллекции\n",
    "* list - tuple\n",
    "* set - frozenset\n",
    "* dict - ??? "
   ]
  },
  {
   "cell_type": "code",
   "execution_count": 124,
   "metadata": {},
   "outputs": [
    {
     "data": {
      "text/plain": [
       "3713081631934410656"
      ]
     },
     "execution_count": 124,
     "metadata": {},
     "output_type": "execute_result"
    },
    {
     "data": {
      "text/plain": [
       "-1834016341293975159"
      ]
     },
     "execution_count": 124,
     "metadata": {},
     "output_type": "execute_result"
    },
    {
     "data": {
      "text/plain": [
       "-6298794629349490062"
      ]
     },
     "execution_count": 124,
     "metadata": {},
     "output_type": "execute_result"
    }
   ],
   "source": [
    "hash(tuple([1, 2]))\n",
    "\n",
    "hash(frozenset({1, 2}))\n",
    "\n",
    "hash(frozenset({1: 2, 3: 4}.items()))"
   ]
  },
  {
   "cell_type": "code",
   "execution_count": 126,
   "metadata": {
    "slideshow": {
     "slide_type": "subslide"
    }
   },
   "outputs": [
    {
     "data": {
      "text/plain": [
       "{1: 2, 'key': 'value'}"
      ]
     },
     "execution_count": 126,
     "metadata": {},
     "output_type": "execute_result"
    },
    {
     "data": {
      "text/plain": [
       "frozenset({1, 'key'})"
      ]
     },
     "execution_count": 126,
     "metadata": {},
     "output_type": "execute_result"
    },
    {
     "data": {
      "text/plain": [
       "frozenset({('key', 'value'), (1, 2)})"
      ]
     },
     "execution_count": 126,
     "metadata": {},
     "output_type": "execute_result"
    },
    {
     "data": {
      "text/plain": [
       "{1: 2, 'key': 'value'}"
      ]
     },
     "execution_count": 126,
     "metadata": {},
     "output_type": "execute_result"
    }
   ],
   "source": [
    "a = {1: 2, \"key\": \"value\"}\n",
    "a \n",
    "\n",
    "frozenset(a)\n",
    "frozenset(a.items())\n",
    "\n",
    "dict(frozenset(a.items()))"
   ]
  },
  {
   "cell_type": "markdown",
   "metadata": {
    "slideshow": {
     "slide_type": "slide"
    }
   },
   "source": [
    "## Python 3.6+ и порядок вставки ключей"
   ]
  },
  {
   "cell_type": "code",
   "execution_count": 130,
   "metadata": {},
   "outputs": [
    {
     "name": "stdout",
     "output_type": "stream",
     "text": [
      "{1, 2}\n",
      "{1, 2}\n",
      "{1: 1, 2: 2}\n",
      "{2: 2, 1: 1}\n"
     ]
    }
   ],
   "source": [
    "print({1, 2})\n",
    "print({2, 1})\n",
    "\n",
    "print({1: 1, 2: 2})\n",
    "print({2: 2, 1: 1})"
   ]
  },
  {
   "cell_type": "code",
   "execution_count": 136,
   "metadata": {
    "slideshow": {
     "slide_type": "subslide"
    }
   },
   "outputs": [
    {
     "name": "stdout",
     "output_type": "stream",
     "text": [
      "{0: 'v0', 1: 'v1', 2: 'v2'}\n",
      "{0: 'v0', 2: 'v2'}\n",
      "{0: 'v0', 2: 'v2', 1: 'v1.1'}\n",
      "{0: 'v0', 2: 'v2.1', 1: 'v1.1'}\n"
     ]
    }
   ],
   "source": [
    "a = {0: 'v0'}\n",
    "a[1] = 'v1'\n",
    "a[2] = 'v2'\n",
    "print(a)\n",
    "\n",
    "del a[1]\n",
    "print(a)\n",
    "\n",
    "a[1] = 'v1.1'\n",
    "print(a)\n",
    "\n",
    "a[2] = 'v2.1'\n",
    "print(a)"
   ]
  },
  {
   "cell_type": "markdown",
   "metadata": {
    "slideshow": {
     "slide_type": "slide"
    }
   },
   "source": [
    "# Collections\n",
    "\n",
    "https://docs.python.org/3/library/collections.html"
   ]
  },
  {
   "cell_type": "markdown",
   "metadata": {
    "slideshow": {
     "slide_type": "subslide"
    }
   },
   "source": [
    "## OrderedDict\n",
    "\n",
    "https://docs.python.org/3/library/collections.html#collections.OrderedDict"
   ]
  },
  {
   "cell_type": "code",
   "execution_count": 251,
   "metadata": {},
   "outputs": [
    {
     "data": {
      "text/plain": [
       "OrderedDict([(1, 1), ('key', 2)])"
      ]
     },
     "execution_count": 251,
     "metadata": {},
     "output_type": "execute_result"
    },
    {
     "data": {
      "text/plain": [
       "OrderedDict([('key', 2), (1, 1)])"
      ]
     },
     "execution_count": 251,
     "metadata": {},
     "output_type": "execute_result"
    },
    {
     "data": {
      "text/plain": [
       "(1, 1)"
      ]
     },
     "execution_count": 251,
     "metadata": {},
     "output_type": "execute_result"
    },
    {
     "data": {
      "text/plain": [
       "OrderedDict([('key', 2)])"
      ]
     },
     "execution_count": 251,
     "metadata": {},
     "output_type": "execute_result"
    }
   ],
   "source": [
    "from collections import OrderedDict\n",
    "\n",
    "d = OrderedDict({1: 1})\n",
    "d[\"key\"] = value\n",
    "d\n",
    "\n",
    "d.move_to_end(1)\n",
    "d\n",
    "\n",
    "d.popitem(1)\n",
    "d"
   ]
  },
  {
   "cell_type": "markdown",
   "metadata": {
    "slideshow": {
     "slide_type": "subslide"
    }
   },
   "source": [
    "## defaultdict\n",
    "\n",
    "https://docs.python.org/3/library/collections.html#collections.defaultdict"
   ]
  },
  {
   "cell_type": "code",
   "execution_count": 140,
   "metadata": {},
   "outputs": [
    {
     "data": {
      "text/plain": [
       "defaultdict(list, {0: [1, 2]})"
      ]
     },
     "execution_count": 140,
     "metadata": {},
     "output_type": "execute_result"
    }
   ],
   "source": [
    "from collections import defaultdict\n",
    "\n",
    "d = defaultdict(list)\n",
    "\n",
    "d[0] += [1, 2]\n",
    "\n",
    "d"
   ]
  },
  {
   "cell_type": "code",
   "execution_count": 203,
   "metadata": {
    "slideshow": {
     "slide_type": "subslide"
    }
   },
   "outputs": [
    {
     "data": {
      "text/plain": [
       "42"
      ]
     },
     "execution_count": 203,
     "metadata": {},
     "output_type": "execute_result"
    },
    {
     "data": {
      "text/plain": [
       "defaultdict(<function __main__.<lambda>>, {0: 42})"
      ]
     },
     "execution_count": 203,
     "metadata": {},
     "output_type": "execute_result"
    },
    {
     "data": {
      "text/plain": [
       "defaultdict(<function __main__.<lambda>>, {0: 42, 1: 1})"
      ]
     },
     "execution_count": 203,
     "metadata": {},
     "output_type": "execute_result"
    }
   ],
   "source": [
    "from collections import defaultdict\n",
    "d = defaultdict(lambda: 42)\n",
    "\n",
    "d[0]\n",
    "d\n",
    "\n",
    "d[1] = 1\n",
    "d"
   ]
  },
  {
   "cell_type": "markdown",
   "metadata": {
    "slideshow": {
     "slide_type": "subslide"
    }
   },
   "source": [
    "## deque\n",
    "https://docs.python.org/3/library/collections.html#collections.deque"
   ]
  },
  {
   "cell_type": "code",
   "execution_count": 204,
   "metadata": {},
   "outputs": [
    {
     "data": {
      "text/plain": [
       "deque([4, 1, 2, 3])"
      ]
     },
     "execution_count": 204,
     "metadata": {},
     "output_type": "execute_result"
    },
    {
     "data": {
      "text/plain": [
       "3"
      ]
     },
     "execution_count": 204,
     "metadata": {},
     "output_type": "execute_result"
    },
    {
     "data": {
      "text/plain": [
       "4"
      ]
     },
     "execution_count": 204,
     "metadata": {},
     "output_type": "execute_result"
    },
    {
     "data": {
      "text/plain": [
       "deque([1, 2])"
      ]
     },
     "execution_count": 204,
     "metadata": {},
     "output_type": "execute_result"
    }
   ],
   "source": [
    "from collections import deque\n",
    "\n",
    "d = deque([1, 2])\n",
    "d.append(3)\n",
    "d.appendleft(4)\n",
    "d\n",
    "\n",
    "d.pop()\n",
    "d.popleft()\n",
    "d"
   ]
  },
  {
   "cell_type": "markdown",
   "metadata": {
    "slideshow": {
     "slide_type": "subslide"
    }
   },
   "source": [
    "## counter\n",
    "https://docs.python.org/3/library/collections.html#collections.Counter"
   ]
  },
  {
   "cell_type": "code",
   "execution_count": 227,
   "metadata": {},
   "outputs": [
    {
     "data": {
      "text/plain": [
       "Counter({1: 1, 'three': 1, 'two': 2})"
      ]
     },
     "execution_count": 227,
     "metadata": {},
     "output_type": "execute_result"
    },
    {
     "data": {
      "text/plain": [
       "dict_items([(1, 1), ('two', 2), ('three', 1)])"
      ]
     },
     "execution_count": 227,
     "metadata": {},
     "output_type": "execute_result"
    },
    {
     "data": {
      "text/plain": [
       "Counter({1: 1, 'three': 3, 'two': 2})"
      ]
     },
     "execution_count": 227,
     "metadata": {},
     "output_type": "execute_result"
    }
   ],
   "source": [
    "from collections import Counter\n",
    "\n",
    "c = Counter()\n",
    "c.update([1, \"two\", \"two\", \"three\"])\n",
    "c\n",
    "c.items()\n",
    "\n",
    "c[\"three\"] = 3\n",
    "c"
   ]
  },
  {
   "cell_type": "code",
   "execution_count": 233,
   "metadata": {
    "slideshow": {
     "slide_type": "subslide"
    }
   },
   "outputs": [
    {
     "data": {
      "text/plain": [
       "Counter({1: 1, 2: 2})"
      ]
     },
     "execution_count": 233,
     "metadata": {},
     "output_type": "execute_result"
    },
    {
     "data": {
      "text/plain": [
       "Counter({1: 1, 2: 1})"
      ]
     },
     "execution_count": 233,
     "metadata": {},
     "output_type": "execute_result"
    },
    {
     "data": {
      "text/plain": [
       "Counter({1: 1, 2: 2})"
      ]
     },
     "execution_count": 233,
     "metadata": {},
     "output_type": "execute_result"
    },
    {
     "data": {
      "text/plain": [
       "Counter({'one': 1, 'two': 2})"
      ]
     },
     "execution_count": 233,
     "metadata": {},
     "output_type": "execute_result"
    }
   ],
   "source": [
    "Counter([1, 2, 2])\n",
    "Counter({1, 2, 2})\n",
    "Counter({1: 1, 2: 2})\n",
    "Counter(one=1, two=2)"
   ]
  },
  {
   "cell_type": "markdown",
   "metadata": {
    "slideshow": {
     "slide_type": "subslide"
    }
   },
   "source": [
    "## namedtuple\n",
    "https://docs.python.org/3/library/collections.html#collections.namedtuple"
   ]
  },
  {
   "cell_type": "code",
   "execution_count": 208,
   "metadata": {},
   "outputs": [
    {
     "name": "stdout",
     "output_type": "stream",
     "text": [
      "Point(x=1, y=2)\n"
     ]
    },
    {
     "data": {
      "text/plain": [
       "(1, 2)"
      ]
     },
     "execution_count": 208,
     "metadata": {},
     "output_type": "execute_result"
    },
    {
     "name": "stdout",
     "output_type": "stream",
     "text": [
      "1\n",
      "2\n",
      "42\n"
     ]
    }
   ],
   "source": [
    "from collections import namedtuple\n",
    "\n",
    "Point = namedtuple('Point', ['x', 'y'])\n",
    "\n",
    "print(Point(1, 2))\n",
    "x, y = Point(1, 2)\n",
    "(x, y)\n",
    "\n",
    "for value in Point(1, 2):\n",
    "    print(value)\n",
    "\n",
    "print(Point(42, 42).x)"
   ]
  },
  {
   "cell_type": "code",
   "execution_count": 210,
   "metadata": {
    "slideshow": {
     "slide_type": "subslide"
    }
   },
   "outputs": [
    {
     "data": {
      "text/plain": [
       "Point(x=1, y=2)"
      ]
     },
     "execution_count": 210,
     "metadata": {},
     "output_type": "execute_result"
    }
   ],
   "source": [
    "from typing import NamedTuple\n",
    "\n",
    "Point = NamedTuple('Point', [('x', str), ('y', str)])\n",
    "Point(1, 2)"
   ]
  },
  {
   "cell_type": "code",
   "execution_count": 211,
   "metadata": {
    "slideshow": {
     "slide_type": "subslide"
    }
   },
   "outputs": [
    {
     "data": {
      "text/plain": [
       "Point(x=0, y=3)"
      ]
     },
     "execution_count": 211,
     "metadata": {},
     "output_type": "execute_result"
    },
    {
     "data": {
      "text/plain": [
       "'very important comment'"
      ]
     },
     "execution_count": 211,
     "metadata": {},
     "output_type": "execute_result"
    }
   ],
   "source": [
    "class Point(NamedTuple):\n",
    "    \"very important comment\"\n",
    "    x: int = 0\n",
    "    y: int = 0\n",
    "        \n",
    "Point(y=3)\n",
    "Point.__doc__"
   ]
  },
  {
   "cell_type": "markdown",
   "metadata": {
    "slideshow": {
     "slide_type": "slide"
    }
   },
   "source": [
    "# Import"
   ]
  },
  {
   "cell_type": "code",
   "execution_count": 212,
   "metadata": {},
   "outputs": [],
   "source": [
    "import numpy\n",
    "import numpy as np\n",
    "import scipy.linalg as sla\n",
    "\n",
    "from typing import NamedTuple\n",
    "from typing import NamedTuple as OldNamedTuple\n",
    "\n",
    "# bad practice!\n",
    "# from typing import * \n",
    "\n",
    "# import local file from same directory\n",
    "# from .localfilename import function_name"
   ]
  },
  {
   "cell_type": "markdown",
   "metadata": {
    "slideshow": {
     "slide_type": "subslide"
    }
   },
   "source": [
    "## import works only once"
   ]
  },
  {
   "cell_type": "code",
   "execution_count": 239,
   "metadata": {},
   "outputs": [
    {
     "name": "stdout",
     "output_type": "stream",
     "text": [
      "'dt = 4.067399263381958'\n",
      "'dt = 9.5367431640625e-07'\n",
      "'dt = 4.76837158203125e-07'\n"
     ]
    }
   ],
   "source": [
    "from time import time\n",
    "\n",
    "for i in range(3):\n",
    "    t1 = time()\n",
    "    import tensorflow as tf \n",
    "    t2 = time()\n",
    "    print(f\"dt = {t2-t1}\")\n"
   ]
  },
  {
   "cell_type": "code",
   "execution_count": 213,
   "metadata": {
    "slideshow": {
     "slide_type": "subslide"
    }
   },
   "outputs": [
    {
     "name": "stdout",
     "output_type": "stream",
     "text": [
      "<module 'pprint' from '/usr/lib/python3.6/pprint.py'>\n",
      "['PrettyPrinter',\n",
      " '_StringIO',\n",
      " '__all__',\n",
      " '__builtins__',\n",
      " '__cached__',\n",
      " '__doc__',\n",
      " '__file__',\n",
      " '__loader__',\n",
      " '__name__',\n",
      " '__package__',\n",
      " '__spec__',\n",
      " '_builtin_scalars',\n",
      " '_collections',\n",
      " '_perfcheck',\n",
      " '_recursion',\n",
      " '_safe_key',\n",
      " '_safe_repr',\n",
      " '_safe_tuple',\n",
      " '_sys',\n",
      " '_types',\n",
      " '_wrap_bytes_repr',\n",
      " 'isreadable',\n",
      " 'isrecursive',\n",
      " 'pformat',\n",
      " 'pprint',\n",
      " 're',\n",
      " 'saferepr']\n"
     ]
    }
   ],
   "source": [
    "import pprint\n",
    "\n",
    "print = pprint.pprint\n",
    "\n",
    "print(pprint)\n",
    "print(dir(pprint))"
   ]
  },
  {
   "cell_type": "code",
   "execution_count": 214,
   "metadata": {
    "slideshow": {
     "slide_type": "subslide"
    }
   },
   "outputs": [
    {
     "name": "stdout",
     "output_type": "stream",
     "text": [
      "{'PrettyPrinter': <class 'pprint.PrettyPrinter'>,\n",
      " '_StringIO': <class '_io.StringIO'>,\n",
      " '__all__': ['pprint',\n",
      "             'pformat',\n",
      "             'isreadable',\n",
      "             'isrecursive',\n",
      "             'saferepr',\n",
      "             'PrettyPrinter'],\n",
      " '__builtins__': {'ArithmeticError': <class 'ArithmeticError'>,\n",
      "                  'AssertionError': <class 'AssertionError'>,\n",
      "                  'AttributeError': <class 'AttributeError'>,\n",
      "                  'BaseException': <class 'BaseException'>,\n",
      "                  'BlockingIOError': <class 'BlockingIOError'>,\n",
      "                  'BrokenPipeError': <class 'BrokenPipeError'>,\n",
      "                  'BufferError': <class 'BufferError'>,\n",
      "                  'BytesWarning': <class 'BytesWarning'>,\n",
      "                  'ChildProcessError': <class 'ChildProcessError'>,\n",
      "                  'ConnectionAbortedError': <class 'ConnectionAbortedError'>,\n",
      "                  'ConnectionError': <class 'ConnectionError'>,\n",
      "                  'ConnectionRefusedError': <class 'ConnectionRefusedError'>,\n",
      "                  'ConnectionResetError': <class 'ConnectionResetError'>,\n",
      "                  'DeprecationWarning': <class 'DeprecationWarning'>,\n",
      "                  'EOFError': <class 'EOFError'>,\n",
      "                  'Ellipsis': Ellipsis,\n",
      "                  'EnvironmentError': <class 'OSError'>,\n",
      "                  'Exception': <class 'Exception'>,\n",
      "                  'False': False,\n",
      "                  'FileExistsError': <class 'FileExistsError'>,\n",
      "                  'FileNotFoundError': <class 'FileNotFoundError'>,\n",
      "                  'FloatingPointError': <class 'FloatingPointError'>,\n",
      "                  'FutureWarning': <class 'FutureWarning'>,\n",
      "                  'GeneratorExit': <class 'GeneratorExit'>,\n",
      "                  'IOError': <class 'OSError'>,\n",
      "                  'ImportError': <class 'ImportError'>,\n",
      "                  'ImportWarning': <class 'ImportWarning'>,\n",
      "                  'IndentationError': <class 'IndentationError'>,\n",
      "                  'IndexError': <class 'IndexError'>,\n",
      "                  'InterruptedError': <class 'InterruptedError'>,\n",
      "                  'IsADirectoryError': <class 'IsADirectoryError'>,\n",
      "                  'KeyError': <class 'KeyError'>,\n",
      "                  'KeyboardInterrupt': <class 'KeyboardInterrupt'>,\n",
      "                  'LookupError': <class 'LookupError'>,\n",
      "                  'MemoryError': <class 'MemoryError'>,\n",
      "                  'ModuleNotFoundError': <class 'ModuleNotFoundError'>,\n",
      "                  'NameError': <class 'NameError'>,\n",
      "                  'None': None,\n",
      "                  'NotADirectoryError': <class 'NotADirectoryError'>,\n",
      "                  'NotImplemented': NotImplemented,\n",
      "                  'NotImplementedError': <class 'NotImplementedError'>,\n",
      "                  'OSError': <class 'OSError'>,\n",
      "                  'OverflowError': <class 'OverflowError'>,\n",
      "                  'PendingDeprecationWarning': <class 'PendingDeprecationWarning'>,\n",
      "                  'PermissionError': <class 'PermissionError'>,\n",
      "                  'ProcessLookupError': <class 'ProcessLookupError'>,\n",
      "                  'RecursionError': <class 'RecursionError'>,\n",
      "                  'ReferenceError': <class 'ReferenceError'>,\n",
      "                  'ResourceWarning': <class 'ResourceWarning'>,\n",
      "                  'RuntimeError': <class 'RuntimeError'>,\n",
      "                  'RuntimeWarning': <class 'RuntimeWarning'>,\n",
      "                  'StopAsyncIteration': <class 'StopAsyncIteration'>,\n",
      "                  'StopIteration': <class 'StopIteration'>,\n",
      "                  'SyntaxError': <class 'SyntaxError'>,\n",
      "                  'SyntaxWarning': <class 'SyntaxWarning'>,\n",
      "                  'SystemError': <class 'SystemError'>,\n",
      "                  'SystemExit': <class 'SystemExit'>,\n",
      "                  'TabError': <class 'TabError'>,\n",
      "                  'TimeoutError': <class 'TimeoutError'>,\n",
      "                  'True': True,\n",
      "                  'TypeError': <class 'TypeError'>,\n",
      "                  'UnboundLocalError': <class 'UnboundLocalError'>,\n",
      "                  'UnicodeDecodeError': <class 'UnicodeDecodeError'>,\n",
      "                  'UnicodeEncodeError': <class 'UnicodeEncodeError'>,\n",
      "                  'UnicodeError': <class 'UnicodeError'>,\n",
      "                  'UnicodeTranslateError': <class 'UnicodeTranslateError'>,\n",
      "                  'UnicodeWarning': <class 'UnicodeWarning'>,\n",
      "                  'UserWarning': <class 'UserWarning'>,\n",
      "                  'ValueError': <class 'ValueError'>,\n",
      "                  'Warning': <class 'Warning'>,\n",
      "                  'ZeroDivisionError': <class 'ZeroDivisionError'>,\n",
      "                  '__IPYTHON__': True,\n",
      "                  '__build_class__': <built-in function __build_class__>,\n",
      "                  '__debug__': True,\n",
      "                  '__doc__': 'Built-in functions, exceptions, and other '\n",
      "                             'objects.\\n'\n",
      "                             '\\n'\n",
      "                             \"Noteworthy: None is the `nil' object; Ellipsis \"\n",
      "                             \"represents `...' in slices.\",\n",
      "                  '__import__': <built-in function __import__>,\n",
      "                  '__loader__': <class '_frozen_importlib.BuiltinImporter'>,\n",
      "                  '__name__': 'builtins',\n",
      "                  '__package__': '',\n",
      "                  '__spec__': ModuleSpec(name='builtins', loader=<class '_frozen_importlib.BuiltinImporter'>),\n",
      "                  'abs': <built-in function abs>,\n",
      "                  'all': <built-in function all>,\n",
      "                  'any': <built-in function any>,\n",
      "                  'ascii': <built-in function ascii>,\n",
      "                  'bin': <built-in function bin>,\n",
      "                  'bool': <class 'bool'>,\n",
      "                  'bytearray': <class 'bytearray'>,\n",
      "                  'bytes': <class 'bytes'>,\n",
      "                  'callable': <built-in function callable>,\n",
      "                  'chr': <built-in function chr>,\n",
      "                  'classmethod': <class 'classmethod'>,\n",
      "                  'compile': <built-in function compile>,\n",
      "                  'complex': <class 'complex'>,\n",
      "                  'copyright': Copyright (c) 2001-2017 Python Software Foundation.\n",
      "All Rights Reserved.\n",
      "\n",
      "Copyright (c) 2000 BeOpen.com.\n",
      "All Rights Reserved.\n",
      "\n",
      "Copyright (c) 1995-2001 Corporation for National Research Initiatives.\n",
      "All Rights Reserved.\n",
      "\n",
      "Copyright (c) 1991-1995 Stichting Mathematisch Centrum, Amsterdam.\n",
      "All Rights Reserved.,\n",
      "                  'credits':     Thanks to CWI, CNRI, BeOpen.com, Zope Corporation and a cast of thousands\n",
      "    for supporting Python development.  See www.python.org for more information.,\n",
      "                  'delattr': <built-in function delattr>,\n",
      "                  'dict': <class 'dict'>,\n",
      "                  'dir': <built-in function dir>,\n",
      "                  'display': <function display at 0x7ff78509c378>,\n",
      "                  'divmod': <built-in function divmod>,\n",
      "                  'enumerate': <class 'enumerate'>,\n",
      "                  'eval': <built-in function eval>,\n",
      "                  'exec': <built-in function exec>,\n",
      "                  'filter': <class 'filter'>,\n",
      "                  'float': <class 'float'>,\n",
      "                  'format': <built-in function format>,\n",
      "                  'frozenset': <class 'frozenset'>,\n",
      "                  'get_ipython': <bound method InteractiveShell.get_ipython of <ipykernel.zmqshell.ZMQInteractiveShell object at 0x7ff77f8022e8>>,\n",
      "                  'getattr': <built-in function getattr>,\n",
      "                  'globals': <built-in function globals>,\n",
      "                  'hasattr': <built-in function hasattr>,\n",
      "                  'hash': <built-in function hash>,\n",
      "                  'help': Type help() for interactive help, or help(object) for help about object.,\n",
      "                  'hex': <built-in function hex>,\n",
      "                  'id': <built-in function id>,\n",
      "                  'input': <bound method Kernel.raw_input of <ipykernel.ipkernel.IPythonKernel object at 0x7ff77f8020b8>>,\n",
      "                  'int': <class 'int'>,\n",
      "                  'isinstance': <built-in function isinstance>,\n",
      "                  'issubclass': <built-in function issubclass>,\n",
      "                  'iter': <built-in function iter>,\n",
      "                  'len': <built-in function len>,\n",
      "                  'license': MIT License\n",
      "\n",
      "Copyright (c) 2020 Igor Slobodskov\n",
      "\n",
      "Permission is hereby granted, free of charge, to any person obtaining a copy\n",
      "of this software and associated documentation files (the \"Software\"), to deal\n",
      "in the Software without restriction, including without limitation the rights\n",
      "to use, copy, modify, merge, publish, distribute, sublicense, and/or sell\n",
      "copies of the Software, and to permit persons to whom the Software is\n",
      "furnished to do so, subject to the following conditions:\n",
      "\n",
      "The above copyright notice and this permission notice shall be included in all\n",
      "copies or substantial portions of the Software.\n",
      "\n",
      "THE SOFTWARE IS PROVIDED \"AS IS\", WITHOUT WARRANTY OF ANY KIND, EXPRESS OR\n",
      "IMPLIED, INCLUDING BUT NOT LIMITED TO THE WARRANTIES OF MERCHANTABILITY,\n",
      "FITNESS FOR A PARTICULAR PURPOSE AND NONINFRINGEMENT. IN NO EVENT SHALL THE\n",
      "AUTHORS OR COPYRIGHT HOLDERS BE LIABLE FOR ANY CLAIM, DAMAGES OR OTHER\n",
      "LIABILITY, WHETHER IN AN ACTION OF CONTRACT, TORT OR OTHERWISE, ARISING FROM,\n",
      "OUT OF OR IN CONNECTION WITH THE SOFTWARE OR THE USE OR OTHER DEALINGS IN THE\n",
      "SOFTWARE.\n",
      ",\n",
      "                  'list': <class 'list'>,\n",
      "                  'locals': <built-in function locals>,\n",
      "                  'map': <class 'map'>,\n",
      "                  'max': <built-in function max>,\n",
      "                  'memoryview': <class 'memoryview'>,\n",
      "                  'min': <built-in function min>,\n",
      "                  'next': <built-in function next>,\n",
      "                  'object': <class 'object'>,\n",
      "                  'oct': <built-in function oct>,\n",
      "                  'open': <built-in function open>,\n",
      "                  'ord': <built-in function ord>,\n",
      "                  'pow': <built-in function pow>,\n",
      "                  'print': <built-in function print>,\n",
      "                  'property': <class 'property'>,\n",
      "                  'range': <class 'range'>,\n",
      "                  'repr': <built-in function repr>,\n",
      "                  'reversed': <class 'reversed'>,\n",
      "                  'round': <built-in function round>,\n",
      "                  'set': <class 'set'>,\n",
      "                  'setattr': <built-in function setattr>,\n",
      "                  'slice': <class 'slice'>,\n",
      "                  'sorted': <built-in function sorted>,\n",
      "                  'staticmethod': <class 'staticmethod'>,\n",
      "                  'str': <class 'str'>,\n",
      "                  'sum': <built-in function sum>,\n",
      "                  'super': <class 'super'>,\n",
      "                  'tuple': <class 'tuple'>,\n",
      "                  'type': <class 'type'>,\n",
      "                  'vars': <built-in function vars>,\n",
      "                  'zip': <class 'zip'>},\n",
      " '__cached__': '/usr/lib/python3.6/__pycache__/pprint.cpython-36.pyc',\n",
      " '__doc__': 'Support to pretty-print lists, tuples, & dictionaries '\n",
      "            'recursively.\\n'\n",
      "            '\\n'\n",
      "            'Very simple, but useful, especially in debugging data '\n",
      "            'structures.\\n'\n",
      "            '\\n'\n",
      "            'Classes\\n'\n",
      "            '-------\\n'\n",
      "            '\\n'\n",
      "            'PrettyPrinter()\\n'\n",
      "            '    Handle pretty-printing operations onto a stream using a '\n",
      "            'configured\\n'\n",
      "            '    set of formatting parameters.\\n'\n",
      "            '\\n'\n",
      "            'Functions\\n'\n",
      "            '---------\\n'\n",
      "            '\\n'\n",
      "            'pformat()\\n'\n",
      "            '    Format a Python object into a pretty-printed representation.\\n'\n",
      "            '\\n'\n",
      "            'pprint()\\n'\n",
      "            '    Pretty-print a Python object to a stream [default is '\n",
      "            'sys.stdout].\\n'\n",
      "            '\\n'\n",
      "            'saferepr()\\n'\n",
      "            \"    Generate a 'standard' repr()-like value, but protect against \"\n",
      "            'recursive\\n'\n",
      "            '    data structures.\\n'\n",
      "            '\\n',\n",
      " '__file__': '/usr/lib/python3.6/pprint.py',\n",
      " '__loader__': <_frozen_importlib_external.SourceFileLoader object at 0x7ff783e07fd0>,\n",
      " '__name__': 'pprint',\n",
      " '__package__': '',\n",
      " '__spec__': ModuleSpec(name='pprint', loader=<_frozen_importlib_external.SourceFileLoader object at 0x7ff783e07fd0>, origin='/usr/lib/python3.6/pprint.py'),\n",
      " '_builtin_scalars': frozenset({<class 'bool'>,\n",
      "                                <class 'bytearray'>,\n",
      "                                <class 'bytes'>,\n",
      "                                <class 'complex'>,\n",
      "                                <class 'float'>,\n",
      "                                <class 'int'>,\n",
      "                                <class 'NoneType'>,\n",
      "                                <class 'str'>}),\n",
      " '_collections': <module 'collections' from '/home/lgor/projects/2017.2/python3.6env/lib/python3.6/collections/__init__.py'>,\n",
      " '_perfcheck': <function _perfcheck at 0x7ff783e18bf8>,\n",
      " '_recursion': <function _recursion at 0x7ff783e18b70>,\n",
      " '_safe_key': <class 'pprint._safe_key'>,\n",
      " '_safe_repr': <function _safe_repr at 0x7ff783e0ec80>,\n",
      " '_safe_tuple': <function _safe_tuple at 0x7ff783e0eae8>,\n",
      " '_sys': <module 'sys' (built-in)>,\n",
      " '_types': <module 'types' from '/home/lgor/projects/2017.2/python3.6env/lib/python3.6/types.py'>,\n",
      " '_wrap_bytes_repr': <function _wrap_bytes_repr at 0x7ff783e18c80>,\n",
      " 'isreadable': <function isreadable at 0x7ff783e0e9d8>,\n",
      " 'isrecursive': <function isrecursive at 0x7ff783e0ea60>,\n",
      " 'pformat': <function pformat at 0x7ff783e0e8c8>,\n",
      " 'pprint': <function pprint at 0x7ff783e0e840>,\n",
      " 're': <module 're' from '/home/lgor/projects/2017.2/python3.6env/lib/python3.6/re.py'>,\n",
      " 'saferepr': <function saferepr at 0x7ff783e0e950>}\n"
     ]
    }
   ],
   "source": [
    "print(pprint.__dict__)"
   ]
  },
  {
   "cell_type": "markdown",
   "metadata": {
    "slideshow": {
     "slide_type": "subslide"
    }
   },
   "source": [
    "## Avoid cyclic import!"
   ]
  },
  {
   "cell_type": "code",
   "execution_count": 215,
   "metadata": {},
   "outputs": [],
   "source": [
    "## file first.py\n",
    "\n",
    "def first_func():\n",
    "    from .second import second_func\n",
    "    ...\n",
    "\n",
    "## file second.py\n",
    "\n",
    "def second_func():\n",
    "    from .first import first_func\n",
    "    ..."
   ]
  },
  {
   "cell_type": "code",
   "execution_count": 216,
   "metadata": {
    "slideshow": {
     "slide_type": "subslide"
    }
   },
   "outputs": [
    {
     "data": {
      "text/plain": [
       "['',\n",
       " '/home/lgor/projects/2017.2/python3.6env/lib/python36.zip',\n",
       " '/home/lgor/projects/2017.2/python3.6env/lib/python3.6',\n",
       " '/home/lgor/projects/2017.2/python3.6env/lib/python3.6/lib-dynload',\n",
       " '/usr/lib/python3.6',\n",
       " '/home/lgor/projects/2017.2/python3.6env/lib/python3.6/site-packages',\n",
       " '/home/lgor/projects/2017.2/python3.6env/lib/python3.6/site-packages/IPython/extensions',\n",
       " '/home/lgor/.ipython']"
      ]
     },
     "execution_count": 216,
     "metadata": {},
     "output_type": "execute_result"
    }
   ],
   "source": [
    "import sys\n",
    "\n",
    "sys.path\n",
    "\n",
    "# sys.path.append(another_path)"
   ]
  },
  {
   "cell_type": "markdown",
   "metadata": {
    "slideshow": {
     "slide_type": "subslide"
    }
   },
   "source": [
    "## \\_\\_name\\_\\_\n",
    "\n",
    "https://stackoverflow.com/questions/419163/what-does-if-name-main-do"
   ]
  },
  {
   "cell_type": "code",
   "execution_count": 218,
   "metadata": {},
   "outputs": [
    {
     "name": "stdout",
     "output_type": "stream",
     "text": [
      "'__main__'\n",
      "'pprint'\n"
     ]
    }
   ],
   "source": [
    "print(__name__)\n",
    "\n",
    "import pprint\n",
    "print(pprint.__name__)"
   ]
  },
  {
   "cell_type": "markdown",
   "metadata": {
    "slideshow": {
     "slide_type": "-"
    }
   },
   "source": [
    "папка с файлом \\_\\_init\\_\\_.py считается модулем. При импорте модуля исполняется код в .py файлах"
   ]
  },
  {
   "cell_type": "code",
   "execution_count": null,
   "metadata": {},
   "outputs": [],
   "source": []
  }
 ],
 "metadata": {
  "celltoolbar": "Slideshow",
  "kernelspec": {
   "display_name": "Python 3",
   "language": "python",
   "name": "python3"
  },
  "language_info": {
   "codemirror_mode": {
    "name": "ipython",
    "version": 3
   },
   "file_extension": ".py",
   "mimetype": "text/x-python",
   "name": "python",
   "nbconvert_exporter": "python",
   "pygments_lexer": "ipython3",
   "version": "3.6.3"
  }
 },
 "nbformat": 4,
 "nbformat_minor": 2
}
